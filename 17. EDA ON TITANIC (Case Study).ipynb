{
 "cells": [
  {
   "cell_type": "markdown",
   "id": "51117282",
   "metadata": {},
   "source": [
    "## TITANIC DATASET \n",
    "- go through KAGGLE for domain knowledge, more in-depth understanding on EDA and to understand feature engineering."
   ]
  },
  {
   "cell_type": "code",
   "execution_count": 1,
   "id": "43fab6c9",
   "metadata": {},
   "outputs": [],
   "source": [
    "import numpy as np\n",
    "import pandas as pd\n",
    "import seaborn as sns\n",
    "import matplotlib.pyplot as plt"
   ]
  },
  {
   "cell_type": "code",
   "execution_count": 2,
   "id": "c23953ec",
   "metadata": {},
   "outputs": [
    {
     "data": {
      "text/html": [
       "<div>\n",
       "<style scoped>\n",
       "    .dataframe tbody tr th:only-of-type {\n",
       "        vertical-align: middle;\n",
       "    }\n",
       "\n",
       "    .dataframe tbody tr th {\n",
       "        vertical-align: top;\n",
       "    }\n",
       "\n",
       "    .dataframe thead th {\n",
       "        text-align: right;\n",
       "    }\n",
       "</style>\n",
       "<table border=\"1\" class=\"dataframe\">\n",
       "  <thead>\n",
       "    <tr style=\"text-align: right;\">\n",
       "      <th></th>\n",
       "      <th>Survived</th>\n",
       "      <th>Pclass</th>\n",
       "      <th>Name</th>\n",
       "      <th>Sex</th>\n",
       "      <th>Age</th>\n",
       "      <th>SibSp</th>\n",
       "      <th>Parch</th>\n",
       "      <th>Ticket</th>\n",
       "      <th>Fare</th>\n",
       "      <th>Cabin</th>\n",
       "      <th>Embarked</th>\n",
       "    </tr>\n",
       "    <tr>\n",
       "      <th>PassengerId</th>\n",
       "      <th></th>\n",
       "      <th></th>\n",
       "      <th></th>\n",
       "      <th></th>\n",
       "      <th></th>\n",
       "      <th></th>\n",
       "      <th></th>\n",
       "      <th></th>\n",
       "      <th></th>\n",
       "      <th></th>\n",
       "      <th></th>\n",
       "    </tr>\n",
       "  </thead>\n",
       "  <tbody>\n",
       "    <tr>\n",
       "      <th>1</th>\n",
       "      <td>0</td>\n",
       "      <td>3</td>\n",
       "      <td>Braund, Mr. Owen Harris</td>\n",
       "      <td>male</td>\n",
       "      <td>22.0</td>\n",
       "      <td>1</td>\n",
       "      <td>0</td>\n",
       "      <td>A/5 21171</td>\n",
       "      <td>7.2500</td>\n",
       "      <td>NaN</td>\n",
       "      <td>S</td>\n",
       "    </tr>\n",
       "    <tr>\n",
       "      <th>2</th>\n",
       "      <td>1</td>\n",
       "      <td>1</td>\n",
       "      <td>Cumings, Mrs. John Bradley (Florence Briggs Th...</td>\n",
       "      <td>female</td>\n",
       "      <td>38.0</td>\n",
       "      <td>1</td>\n",
       "      <td>0</td>\n",
       "      <td>PC 17599</td>\n",
       "      <td>71.2833</td>\n",
       "      <td>C85</td>\n",
       "      <td>C</td>\n",
       "    </tr>\n",
       "    <tr>\n",
       "      <th>3</th>\n",
       "      <td>1</td>\n",
       "      <td>3</td>\n",
       "      <td>Heikkinen, Miss. Laina</td>\n",
       "      <td>female</td>\n",
       "      <td>26.0</td>\n",
       "      <td>0</td>\n",
       "      <td>0</td>\n",
       "      <td>STON/O2. 3101282</td>\n",
       "      <td>7.9250</td>\n",
       "      <td>NaN</td>\n",
       "      <td>S</td>\n",
       "    </tr>\n",
       "    <tr>\n",
       "      <th>4</th>\n",
       "      <td>1</td>\n",
       "      <td>1</td>\n",
       "      <td>Futrelle, Mrs. Jacques Heath (Lily May Peel)</td>\n",
       "      <td>female</td>\n",
       "      <td>35.0</td>\n",
       "      <td>1</td>\n",
       "      <td>0</td>\n",
       "      <td>113803</td>\n",
       "      <td>53.1000</td>\n",
       "      <td>C123</td>\n",
       "      <td>S</td>\n",
       "    </tr>\n",
       "    <tr>\n",
       "      <th>5</th>\n",
       "      <td>0</td>\n",
       "      <td>3</td>\n",
       "      <td>Allen, Mr. William Henry</td>\n",
       "      <td>male</td>\n",
       "      <td>35.0</td>\n",
       "      <td>0</td>\n",
       "      <td>0</td>\n",
       "      <td>373450</td>\n",
       "      <td>8.0500</td>\n",
       "      <td>NaN</td>\n",
       "      <td>S</td>\n",
       "    </tr>\n",
       "    <tr>\n",
       "      <th>...</th>\n",
       "      <td>...</td>\n",
       "      <td>...</td>\n",
       "      <td>...</td>\n",
       "      <td>...</td>\n",
       "      <td>...</td>\n",
       "      <td>...</td>\n",
       "      <td>...</td>\n",
       "      <td>...</td>\n",
       "      <td>...</td>\n",
       "      <td>...</td>\n",
       "      <td>...</td>\n",
       "    </tr>\n",
       "    <tr>\n",
       "      <th>887</th>\n",
       "      <td>0</td>\n",
       "      <td>2</td>\n",
       "      <td>Montvila, Rev. Juozas</td>\n",
       "      <td>male</td>\n",
       "      <td>27.0</td>\n",
       "      <td>0</td>\n",
       "      <td>0</td>\n",
       "      <td>211536</td>\n",
       "      <td>13.0000</td>\n",
       "      <td>NaN</td>\n",
       "      <td>S</td>\n",
       "    </tr>\n",
       "    <tr>\n",
       "      <th>888</th>\n",
       "      <td>1</td>\n",
       "      <td>1</td>\n",
       "      <td>Graham, Miss. Margaret Edith</td>\n",
       "      <td>female</td>\n",
       "      <td>19.0</td>\n",
       "      <td>0</td>\n",
       "      <td>0</td>\n",
       "      <td>112053</td>\n",
       "      <td>30.0000</td>\n",
       "      <td>B42</td>\n",
       "      <td>S</td>\n",
       "    </tr>\n",
       "    <tr>\n",
       "      <th>889</th>\n",
       "      <td>0</td>\n",
       "      <td>3</td>\n",
       "      <td>Johnston, Miss. Catherine Helen \"Carrie\"</td>\n",
       "      <td>female</td>\n",
       "      <td>NaN</td>\n",
       "      <td>1</td>\n",
       "      <td>2</td>\n",
       "      <td>W./C. 6607</td>\n",
       "      <td>23.4500</td>\n",
       "      <td>NaN</td>\n",
       "      <td>S</td>\n",
       "    </tr>\n",
       "    <tr>\n",
       "      <th>890</th>\n",
       "      <td>1</td>\n",
       "      <td>1</td>\n",
       "      <td>Behr, Mr. Karl Howell</td>\n",
       "      <td>male</td>\n",
       "      <td>26.0</td>\n",
       "      <td>0</td>\n",
       "      <td>0</td>\n",
       "      <td>111369</td>\n",
       "      <td>30.0000</td>\n",
       "      <td>C148</td>\n",
       "      <td>C</td>\n",
       "    </tr>\n",
       "    <tr>\n",
       "      <th>891</th>\n",
       "      <td>0</td>\n",
       "      <td>3</td>\n",
       "      <td>Dooley, Mr. Patrick</td>\n",
       "      <td>male</td>\n",
       "      <td>32.0</td>\n",
       "      <td>0</td>\n",
       "      <td>0</td>\n",
       "      <td>370376</td>\n",
       "      <td>7.7500</td>\n",
       "      <td>NaN</td>\n",
       "      <td>Q</td>\n",
       "    </tr>\n",
       "  </tbody>\n",
       "</table>\n",
       "<p>891 rows × 11 columns</p>\n",
       "</div>"
      ],
      "text/plain": [
       "             Survived  Pclass  \\\n",
       "PassengerId                     \n",
       "1                   0       3   \n",
       "2                   1       1   \n",
       "3                   1       3   \n",
       "4                   1       1   \n",
       "5                   0       3   \n",
       "...               ...     ...   \n",
       "887                 0       2   \n",
       "888                 1       1   \n",
       "889                 0       3   \n",
       "890                 1       1   \n",
       "891                 0       3   \n",
       "\n",
       "                                                          Name     Sex   Age  \\\n",
       "PassengerId                                                                    \n",
       "1                                      Braund, Mr. Owen Harris    male  22.0   \n",
       "2            Cumings, Mrs. John Bradley (Florence Briggs Th...  female  38.0   \n",
       "3                                       Heikkinen, Miss. Laina  female  26.0   \n",
       "4                 Futrelle, Mrs. Jacques Heath (Lily May Peel)  female  35.0   \n",
       "5                                     Allen, Mr. William Henry    male  35.0   \n",
       "...                                                        ...     ...   ...   \n",
       "887                                      Montvila, Rev. Juozas    male  27.0   \n",
       "888                               Graham, Miss. Margaret Edith  female  19.0   \n",
       "889                   Johnston, Miss. Catherine Helen \"Carrie\"  female   NaN   \n",
       "890                                      Behr, Mr. Karl Howell    male  26.0   \n",
       "891                                        Dooley, Mr. Patrick    male  32.0   \n",
       "\n",
       "             SibSp  Parch            Ticket     Fare Cabin Embarked  \n",
       "PassengerId                                                          \n",
       "1                1      0         A/5 21171   7.2500   NaN        S  \n",
       "2                1      0          PC 17599  71.2833   C85        C  \n",
       "3                0      0  STON/O2. 3101282   7.9250   NaN        S  \n",
       "4                1      0            113803  53.1000  C123        S  \n",
       "5                0      0            373450   8.0500   NaN        S  \n",
       "...            ...    ...               ...      ...   ...      ...  \n",
       "887              0      0            211536  13.0000   NaN        S  \n",
       "888              0      0            112053  30.0000   B42        S  \n",
       "889              1      2        W./C. 6607  23.4500   NaN        S  \n",
       "890              0      0            111369  30.0000  C148        C  \n",
       "891              0      0            370376   7.7500   NaN        Q  \n",
       "\n",
       "[891 rows x 11 columns]"
      ]
     },
     "execution_count": 2,
     "metadata": {},
     "output_type": "execute_result"
    }
   ],
   "source": [
    "titanic = pd.read_csv('titanic.csv', index_col = 0)\n",
    "titanic"
   ]
  },
  {
   "cell_type": "code",
   "execution_count": 3,
   "id": "ed7198dc",
   "metadata": {},
   "outputs": [
    {
     "data": {
      "text/html": [
       "<div>\n",
       "<style scoped>\n",
       "    .dataframe tbody tr th:only-of-type {\n",
       "        vertical-align: middle;\n",
       "    }\n",
       "\n",
       "    .dataframe tbody tr th {\n",
       "        vertical-align: top;\n",
       "    }\n",
       "\n",
       "    .dataframe thead th {\n",
       "        text-align: right;\n",
       "    }\n",
       "</style>\n",
       "<table border=\"1\" class=\"dataframe\">\n",
       "  <thead>\n",
       "    <tr style=\"text-align: right;\">\n",
       "      <th></th>\n",
       "      <th>Survived</th>\n",
       "      <th>Pclass</th>\n",
       "      <th>Name</th>\n",
       "      <th>Sex</th>\n",
       "      <th>Age</th>\n",
       "      <th>SibSp</th>\n",
       "      <th>Parch</th>\n",
       "      <th>Ticket</th>\n",
       "      <th>Fare</th>\n",
       "      <th>Cabin</th>\n",
       "      <th>Embarked</th>\n",
       "    </tr>\n",
       "    <tr>\n",
       "      <th>PassengerId</th>\n",
       "      <th></th>\n",
       "      <th></th>\n",
       "      <th></th>\n",
       "      <th></th>\n",
       "      <th></th>\n",
       "      <th></th>\n",
       "      <th></th>\n",
       "      <th></th>\n",
       "      <th></th>\n",
       "      <th></th>\n",
       "      <th></th>\n",
       "    </tr>\n",
       "  </thead>\n",
       "  <tbody>\n",
       "    <tr>\n",
       "      <th>180</th>\n",
       "      <td>0</td>\n",
       "      <td>3</td>\n",
       "      <td>Leonard, Mr. Lionel</td>\n",
       "      <td>male</td>\n",
       "      <td>36.0</td>\n",
       "      <td>0</td>\n",
       "      <td>0</td>\n",
       "      <td>LINE</td>\n",
       "      <td>0.0</td>\n",
       "      <td>NaN</td>\n",
       "      <td>S</td>\n",
       "    </tr>\n",
       "    <tr>\n",
       "      <th>264</th>\n",
       "      <td>0</td>\n",
       "      <td>1</td>\n",
       "      <td>Harrison, Mr. William</td>\n",
       "      <td>male</td>\n",
       "      <td>40.0</td>\n",
       "      <td>0</td>\n",
       "      <td>0</td>\n",
       "      <td>112059</td>\n",
       "      <td>0.0</td>\n",
       "      <td>B94</td>\n",
       "      <td>S</td>\n",
       "    </tr>\n",
       "    <tr>\n",
       "      <th>272</th>\n",
       "      <td>1</td>\n",
       "      <td>3</td>\n",
       "      <td>Tornquist, Mr. William Henry</td>\n",
       "      <td>male</td>\n",
       "      <td>25.0</td>\n",
       "      <td>0</td>\n",
       "      <td>0</td>\n",
       "      <td>LINE</td>\n",
       "      <td>0.0</td>\n",
       "      <td>NaN</td>\n",
       "      <td>S</td>\n",
       "    </tr>\n",
       "    <tr>\n",
       "      <th>278</th>\n",
       "      <td>0</td>\n",
       "      <td>2</td>\n",
       "      <td>Parkes, Mr. Francis \"Frank\"</td>\n",
       "      <td>male</td>\n",
       "      <td>NaN</td>\n",
       "      <td>0</td>\n",
       "      <td>0</td>\n",
       "      <td>239853</td>\n",
       "      <td>0.0</td>\n",
       "      <td>NaN</td>\n",
       "      <td>S</td>\n",
       "    </tr>\n",
       "    <tr>\n",
       "      <th>303</th>\n",
       "      <td>0</td>\n",
       "      <td>3</td>\n",
       "      <td>Johnson, Mr. William Cahoone Jr</td>\n",
       "      <td>male</td>\n",
       "      <td>19.0</td>\n",
       "      <td>0</td>\n",
       "      <td>0</td>\n",
       "      <td>LINE</td>\n",
       "      <td>0.0</td>\n",
       "      <td>NaN</td>\n",
       "      <td>S</td>\n",
       "    </tr>\n",
       "    <tr>\n",
       "      <th>414</th>\n",
       "      <td>0</td>\n",
       "      <td>2</td>\n",
       "      <td>Cunningham, Mr. Alfred Fleming</td>\n",
       "      <td>male</td>\n",
       "      <td>NaN</td>\n",
       "      <td>0</td>\n",
       "      <td>0</td>\n",
       "      <td>239853</td>\n",
       "      <td>0.0</td>\n",
       "      <td>NaN</td>\n",
       "      <td>S</td>\n",
       "    </tr>\n",
       "    <tr>\n",
       "      <th>467</th>\n",
       "      <td>0</td>\n",
       "      <td>2</td>\n",
       "      <td>Campbell, Mr. William</td>\n",
       "      <td>male</td>\n",
       "      <td>NaN</td>\n",
       "      <td>0</td>\n",
       "      <td>0</td>\n",
       "      <td>239853</td>\n",
       "      <td>0.0</td>\n",
       "      <td>NaN</td>\n",
       "      <td>S</td>\n",
       "    </tr>\n",
       "    <tr>\n",
       "      <th>482</th>\n",
       "      <td>0</td>\n",
       "      <td>2</td>\n",
       "      <td>Frost, Mr. Anthony Wood \"Archie\"</td>\n",
       "      <td>male</td>\n",
       "      <td>NaN</td>\n",
       "      <td>0</td>\n",
       "      <td>0</td>\n",
       "      <td>239854</td>\n",
       "      <td>0.0</td>\n",
       "      <td>NaN</td>\n",
       "      <td>S</td>\n",
       "    </tr>\n",
       "    <tr>\n",
       "      <th>598</th>\n",
       "      <td>0</td>\n",
       "      <td>3</td>\n",
       "      <td>Johnson, Mr. Alfred</td>\n",
       "      <td>male</td>\n",
       "      <td>49.0</td>\n",
       "      <td>0</td>\n",
       "      <td>0</td>\n",
       "      <td>LINE</td>\n",
       "      <td>0.0</td>\n",
       "      <td>NaN</td>\n",
       "      <td>S</td>\n",
       "    </tr>\n",
       "    <tr>\n",
       "      <th>634</th>\n",
       "      <td>0</td>\n",
       "      <td>1</td>\n",
       "      <td>Parr, Mr. William Henry Marsh</td>\n",
       "      <td>male</td>\n",
       "      <td>NaN</td>\n",
       "      <td>0</td>\n",
       "      <td>0</td>\n",
       "      <td>112052</td>\n",
       "      <td>0.0</td>\n",
       "      <td>NaN</td>\n",
       "      <td>S</td>\n",
       "    </tr>\n",
       "    <tr>\n",
       "      <th>675</th>\n",
       "      <td>0</td>\n",
       "      <td>2</td>\n",
       "      <td>Watson, Mr. Ennis Hastings</td>\n",
       "      <td>male</td>\n",
       "      <td>NaN</td>\n",
       "      <td>0</td>\n",
       "      <td>0</td>\n",
       "      <td>239856</td>\n",
       "      <td>0.0</td>\n",
       "      <td>NaN</td>\n",
       "      <td>S</td>\n",
       "    </tr>\n",
       "    <tr>\n",
       "      <th>733</th>\n",
       "      <td>0</td>\n",
       "      <td>2</td>\n",
       "      <td>Knight, Mr. Robert J</td>\n",
       "      <td>male</td>\n",
       "      <td>NaN</td>\n",
       "      <td>0</td>\n",
       "      <td>0</td>\n",
       "      <td>239855</td>\n",
       "      <td>0.0</td>\n",
       "      <td>NaN</td>\n",
       "      <td>S</td>\n",
       "    </tr>\n",
       "    <tr>\n",
       "      <th>807</th>\n",
       "      <td>0</td>\n",
       "      <td>1</td>\n",
       "      <td>Andrews, Mr. Thomas Jr</td>\n",
       "      <td>male</td>\n",
       "      <td>39.0</td>\n",
       "      <td>0</td>\n",
       "      <td>0</td>\n",
       "      <td>112050</td>\n",
       "      <td>0.0</td>\n",
       "      <td>A36</td>\n",
       "      <td>S</td>\n",
       "    </tr>\n",
       "    <tr>\n",
       "      <th>816</th>\n",
       "      <td>0</td>\n",
       "      <td>1</td>\n",
       "      <td>Fry, Mr. Richard</td>\n",
       "      <td>male</td>\n",
       "      <td>NaN</td>\n",
       "      <td>0</td>\n",
       "      <td>0</td>\n",
       "      <td>112058</td>\n",
       "      <td>0.0</td>\n",
       "      <td>B102</td>\n",
       "      <td>S</td>\n",
       "    </tr>\n",
       "    <tr>\n",
       "      <th>823</th>\n",
       "      <td>0</td>\n",
       "      <td>1</td>\n",
       "      <td>Reuchlin, Jonkheer. John George</td>\n",
       "      <td>male</td>\n",
       "      <td>38.0</td>\n",
       "      <td>0</td>\n",
       "      <td>0</td>\n",
       "      <td>19972</td>\n",
       "      <td>0.0</td>\n",
       "      <td>NaN</td>\n",
       "      <td>S</td>\n",
       "    </tr>\n",
       "  </tbody>\n",
       "</table>\n",
       "</div>"
      ],
      "text/plain": [
       "             Survived  Pclass                              Name   Sex   Age  \\\n",
       "PassengerId                                                                   \n",
       "180                 0       3               Leonard, Mr. Lionel  male  36.0   \n",
       "264                 0       1             Harrison, Mr. William  male  40.0   \n",
       "272                 1       3      Tornquist, Mr. William Henry  male  25.0   \n",
       "278                 0       2       Parkes, Mr. Francis \"Frank\"  male   NaN   \n",
       "303                 0       3   Johnson, Mr. William Cahoone Jr  male  19.0   \n",
       "414                 0       2    Cunningham, Mr. Alfred Fleming  male   NaN   \n",
       "467                 0       2             Campbell, Mr. William  male   NaN   \n",
       "482                 0       2  Frost, Mr. Anthony Wood \"Archie\"  male   NaN   \n",
       "598                 0       3               Johnson, Mr. Alfred  male  49.0   \n",
       "634                 0       1     Parr, Mr. William Henry Marsh  male   NaN   \n",
       "675                 0       2        Watson, Mr. Ennis Hastings  male   NaN   \n",
       "733                 0       2              Knight, Mr. Robert J  male   NaN   \n",
       "807                 0       1            Andrews, Mr. Thomas Jr  male  39.0   \n",
       "816                 0       1                  Fry, Mr. Richard  male   NaN   \n",
       "823                 0       1   Reuchlin, Jonkheer. John George  male  38.0   \n",
       "\n",
       "             SibSp  Parch  Ticket  Fare Cabin Embarked  \n",
       "PassengerId                                             \n",
       "180              0      0    LINE   0.0   NaN        S  \n",
       "264              0      0  112059   0.0   B94        S  \n",
       "272              0      0    LINE   0.0   NaN        S  \n",
       "278              0      0  239853   0.0   NaN        S  \n",
       "303              0      0    LINE   0.0   NaN        S  \n",
       "414              0      0  239853   0.0   NaN        S  \n",
       "467              0      0  239853   0.0   NaN        S  \n",
       "482              0      0  239854   0.0   NaN        S  \n",
       "598              0      0    LINE   0.0   NaN        S  \n",
       "634              0      0  112052   0.0   NaN        S  \n",
       "675              0      0  239856   0.0   NaN        S  \n",
       "733              0      0  239855   0.0   NaN        S  \n",
       "807              0      0  112050   0.0   A36        S  \n",
       "816              0      0  112058   0.0  B102        S  \n",
       "823              0      0   19972   0.0   NaN        S  "
      ]
     },
     "execution_count": 3,
     "metadata": {},
     "output_type": "execute_result"
    }
   ],
   "source": [
    "titanic[titanic['Fare'] == 0]"
   ]
  },
  {
   "cell_type": "markdown",
   "id": "c93db0cf",
   "metadata": {},
   "source": [
    "## Assumption: Either data is missing or THEY COULD BE CREW MEMBERS\n",
    "### TO SUPPORT MY ASSUMPTION I WILL HAVE TO MAKE SOME MORE OBSERVATIONS SO THAT I CAN INCREASE THE POSSIBILITY OF THEM BEING CREW MEMBERs:\n",
    "\n",
    "**DATA I CAN GATHER TO SUPPORT MY ASSUMPTION:**\n",
    "- We observe the 'Embarked' column to see they all boarded from SouthHampton (S) and we can serch on google to find out that Titanic started its sail from that port. Crew members would obviously board the ship from the starting location therefore it is a supporting argument for our assumption.\n",
    "- Another supporting argument/data is that family members on the ship are zero for these people- 'Parch' and 'SibSp' columns. This is ideal for them to be crew members.\n",
    "- All of them are male(in 1912- women were probably not allowed to be a cre member on ships) and most are middle aged(from what data we have).\n",
    "- Except for one, no one else survived. In such a disaster, preference would have been given to survival of passengers and therefore it supports our assumption.\n",
    "\n",
    "ALL THESE POINTS ARE NOT ENOUGH TO MAKE AN ACCURATE DECLARATION ABOUT OUR ASSUMPTION BUT THERE ARE NOT ANY UNFAVOURABLE ARGUMENTS THAT WE CAN SEE HERE SO IN CASE OF EDA ON PASSENGERS WE CAN DROP THESE COLUMNS IF WE WANT TO. IT IS PART OF **DATA CLEANING.**"
   ]
  },
  {
   "cell_type": "code",
   "execution_count": 19,
   "id": "0ca58b45",
   "metadata": {},
   "outputs": [
    {
     "data": {
      "text/plain": [
       "577"
      ]
     },
     "execution_count": 19,
     "metadata": {},
     "output_type": "execute_result"
    }
   ],
   "source": [
    "len(titanic[titanic['Sex'] == 'male'])"
   ]
  },
  {
   "cell_type": "code",
   "execution_count": 4,
   "id": "74fc7f2b",
   "metadata": {},
   "outputs": [
    {
     "data": {
      "text/plain": [
       "0.6475869809203143"
      ]
     },
     "execution_count": 4,
     "metadata": {},
     "output_type": "execute_result"
    }
   ],
   "source": [
    "len(titanic[titanic['Sex'] == 'male'])/len(titanic)\n",
    "#finding out the decimal percentage/ fraction of males in the dataset\n",
    "#nearly 65% were male. Similarly you can find the number for females."
   ]
  },
  {
   "cell_type": "code",
   "execution_count": 20,
   "id": "52f8ccc4",
   "metadata": {},
   "outputs": [
    {
     "data": {
      "text/plain": [
       "314"
      ]
     },
     "execution_count": 20,
     "metadata": {},
     "output_type": "execute_result"
    }
   ],
   "source": [
    "len(titanic[titanic['Sex'] == 'female'])"
   ]
  },
  {
   "cell_type": "code",
   "execution_count": 6,
   "id": "f226b7c7",
   "metadata": {},
   "outputs": [
    {
     "data": {
      "text/plain": [
       "0.35241301907968575"
      ]
     },
     "execution_count": 6,
     "metadata": {},
     "output_type": "execute_result"
    }
   ],
   "source": [
    "len(titanic[titanic['Sex'] == 'female'])/len(titanic)"
   ]
  },
  {
   "cell_type": "code",
   "execution_count": 89,
   "id": "8c7cfbff",
   "metadata": {},
   "outputs": [
    {
     "data": {
      "text/plain": [
       "109"
      ]
     },
     "execution_count": 89,
     "metadata": {},
     "output_type": "execute_result"
    }
   ],
   "source": [
    "#NOW IF WE WANT TO KNOW THE SURVIVAL RATE/CHANCES BASED ON GENDER\n",
    "len(titanic[(titanic['Sex'] == 'male') & (titanic['Survived'] == 1)])"
   ]
  },
  {
   "cell_type": "code",
   "execution_count": 12,
   "id": "66c7afb2",
   "metadata": {},
   "outputs": [
    {
     "data": {
      "text/plain": [
       "0.122334455667789"
      ]
     },
     "execution_count": 12,
     "metadata": {},
     "output_type": "execute_result"
    }
   ],
   "source": [
    "#fraction of males survived compared to total passengers\n",
    "len(titanic[(titanic['Sex'] == 'male') & (titanic['Survived'] == 1)])/len(titanic)"
   ]
  },
  {
   "cell_type": "code",
   "execution_count": 18,
   "id": "3f1855da",
   "metadata": {},
   "outputs": [
    {
     "data": {
      "text/plain": [
       "0.18890814558058924"
      ]
     },
     "execution_count": 18,
     "metadata": {},
     "output_type": "execute_result"
    }
   ],
   "source": [
    "#fraction of males survived compared to total MALE passengers\n",
    "len(titanic[(titanic['Sex'] == 'male') & (titanic['Survived'] == 1)])/len(titanic[titanic.Sex == 'male'])"
   ]
  },
  {
   "cell_type": "code",
   "execution_count": 90,
   "id": "be484834",
   "metadata": {},
   "outputs": [
    {
     "data": {
      "text/plain": [
       "233"
      ]
     },
     "execution_count": 90,
     "metadata": {},
     "output_type": "execute_result"
    }
   ],
   "source": [
    "len(titanic[(titanic['Sex'] == 'female') & (titanic['Survived'] == 1)])"
   ]
  },
  {
   "cell_type": "code",
   "execution_count": 14,
   "id": "08d89cc7",
   "metadata": {},
   "outputs": [
    {
     "data": {
      "text/plain": [
       "0.2615039281705948"
      ]
     },
     "execution_count": 14,
     "metadata": {},
     "output_type": "execute_result"
    }
   ],
   "source": [
    "#fraction of females survived compared to total passengers\n",
    "len(titanic[(titanic['Sex'] == 'female') & (titanic['Survived'] == 1)])/len(titanic)"
   ]
  },
  {
   "cell_type": "code",
   "execution_count": 16,
   "id": "58f50a13",
   "metadata": {},
   "outputs": [
    {
     "data": {
      "text/plain": [
       "0.7420382165605095"
      ]
     },
     "execution_count": 16,
     "metadata": {},
     "output_type": "execute_result"
    }
   ],
   "source": [
    "#fraction of females survived compared to total FEMALE passengers\n",
    "len(titanic[(titanic['Sex'] == 'female') & (titanic['Survived'] == 1)])/len(titanic[titanic['Sex'] == 'female'])"
   ]
  },
  {
   "cell_type": "markdown",
   "id": "bdfae5fb",
   "metadata": {},
   "source": [
    "## WHY DOES PERCENTAGE GIVE US BETTER INFORMATION/UNDERSTANDING?\n",
    "- BECAUSE DATASET IS IMBALANCED.\n",
    "- THERE ARE MORE MALE PASSENGERS THAN FEMALES THEREFORE DATA SET IS BIASED AGAINST 'FEMALES' AND BIASED FOR 'MALES' IN THIS CASE WHEN WE TAK ABOUT FREQUENCY FOR THOSE TWO CATEGORIES.\n",
    "- BUT WHAT INFORMATION PERCENTAGE GIVES US HERE IS THAT EVEN THOUGH THE NUMBER OF FEMALE PASSENGERS IS SIGNIFICANTLY LESS THAN THE NUMBER OF MALE PASSENGERS, THEIR CHANCES/ RATE OF SURVIVAL IS MUCH HIGHER THAN MALE PASSENGERS."
   ]
  },
  {
   "cell_type": "markdown",
   "id": "8deb719e",
   "metadata": {},
   "source": [
    "### Simply observing data:"
   ]
  },
  {
   "cell_type": "code",
   "execution_count": 5,
   "id": "0642d35f",
   "metadata": {
    "scrolled": true
   },
   "outputs": [
    {
     "data": {
      "text/html": [
       "<div>\n",
       "<style scoped>\n",
       "    .dataframe tbody tr th:only-of-type {\n",
       "        vertical-align: middle;\n",
       "    }\n",
       "\n",
       "    .dataframe tbody tr th {\n",
       "        vertical-align: top;\n",
       "    }\n",
       "\n",
       "    .dataframe thead th {\n",
       "        text-align: right;\n",
       "    }\n",
       "</style>\n",
       "<table border=\"1\" class=\"dataframe\">\n",
       "  <thead>\n",
       "    <tr style=\"text-align: right;\">\n",
       "      <th></th>\n",
       "      <th>Survived</th>\n",
       "      <th>Pclass</th>\n",
       "      <th>Name</th>\n",
       "      <th>Sex</th>\n",
       "      <th>Age</th>\n",
       "      <th>SibSp</th>\n",
       "      <th>Parch</th>\n",
       "      <th>Ticket</th>\n",
       "      <th>Fare</th>\n",
       "      <th>Cabin</th>\n",
       "      <th>Embarked</th>\n",
       "    </tr>\n",
       "    <tr>\n",
       "      <th>PassengerId</th>\n",
       "      <th></th>\n",
       "      <th></th>\n",
       "      <th></th>\n",
       "      <th></th>\n",
       "      <th></th>\n",
       "      <th></th>\n",
       "      <th></th>\n",
       "      <th></th>\n",
       "      <th></th>\n",
       "      <th></th>\n",
       "      <th></th>\n",
       "    </tr>\n",
       "  </thead>\n",
       "  <tbody>\n",
       "    <tr>\n",
       "      <th>2</th>\n",
       "      <td>1</td>\n",
       "      <td>1</td>\n",
       "      <td>Cumings, Mrs. John Bradley (Florence Briggs Th...</td>\n",
       "      <td>female</td>\n",
       "      <td>38.0</td>\n",
       "      <td>1</td>\n",
       "      <td>0</td>\n",
       "      <td>PC 17599</td>\n",
       "      <td>71.2833</td>\n",
       "      <td>C85</td>\n",
       "      <td>C</td>\n",
       "    </tr>\n",
       "    <tr>\n",
       "      <th>3</th>\n",
       "      <td>1</td>\n",
       "      <td>3</td>\n",
       "      <td>Heikkinen, Miss. Laina</td>\n",
       "      <td>female</td>\n",
       "      <td>26.0</td>\n",
       "      <td>0</td>\n",
       "      <td>0</td>\n",
       "      <td>STON/O2. 3101282</td>\n",
       "      <td>7.9250</td>\n",
       "      <td>NaN</td>\n",
       "      <td>S</td>\n",
       "    </tr>\n",
       "    <tr>\n",
       "      <th>4</th>\n",
       "      <td>1</td>\n",
       "      <td>1</td>\n",
       "      <td>Futrelle, Mrs. Jacques Heath (Lily May Peel)</td>\n",
       "      <td>female</td>\n",
       "      <td>35.0</td>\n",
       "      <td>1</td>\n",
       "      <td>0</td>\n",
       "      <td>113803</td>\n",
       "      <td>53.1000</td>\n",
       "      <td>C123</td>\n",
       "      <td>S</td>\n",
       "    </tr>\n",
       "    <tr>\n",
       "      <th>9</th>\n",
       "      <td>1</td>\n",
       "      <td>3</td>\n",
       "      <td>Johnson, Mrs. Oscar W (Elisabeth Vilhelmina Berg)</td>\n",
       "      <td>female</td>\n",
       "      <td>27.0</td>\n",
       "      <td>0</td>\n",
       "      <td>2</td>\n",
       "      <td>347742</td>\n",
       "      <td>11.1333</td>\n",
       "      <td>NaN</td>\n",
       "      <td>S</td>\n",
       "    </tr>\n",
       "    <tr>\n",
       "      <th>10</th>\n",
       "      <td>1</td>\n",
       "      <td>2</td>\n",
       "      <td>Nasser, Mrs. Nicholas (Adele Achem)</td>\n",
       "      <td>female</td>\n",
       "      <td>14.0</td>\n",
       "      <td>1</td>\n",
       "      <td>0</td>\n",
       "      <td>237736</td>\n",
       "      <td>30.0708</td>\n",
       "      <td>NaN</td>\n",
       "      <td>C</td>\n",
       "    </tr>\n",
       "    <tr>\n",
       "      <th>...</th>\n",
       "      <td>...</td>\n",
       "      <td>...</td>\n",
       "      <td>...</td>\n",
       "      <td>...</td>\n",
       "      <td>...</td>\n",
       "      <td>...</td>\n",
       "      <td>...</td>\n",
       "      <td>...</td>\n",
       "      <td>...</td>\n",
       "      <td>...</td>\n",
       "      <td>...</td>\n",
       "    </tr>\n",
       "    <tr>\n",
       "      <th>881</th>\n",
       "      <td>1</td>\n",
       "      <td>2</td>\n",
       "      <td>Shelley, Mrs. William (Imanita Parrish Hall)</td>\n",
       "      <td>female</td>\n",
       "      <td>25.0</td>\n",
       "      <td>0</td>\n",
       "      <td>1</td>\n",
       "      <td>230433</td>\n",
       "      <td>26.0000</td>\n",
       "      <td>NaN</td>\n",
       "      <td>S</td>\n",
       "    </tr>\n",
       "    <tr>\n",
       "      <th>883</th>\n",
       "      <td>0</td>\n",
       "      <td>3</td>\n",
       "      <td>Dahlberg, Miss. Gerda Ulrika</td>\n",
       "      <td>female</td>\n",
       "      <td>22.0</td>\n",
       "      <td>0</td>\n",
       "      <td>0</td>\n",
       "      <td>7552</td>\n",
       "      <td>10.5167</td>\n",
       "      <td>NaN</td>\n",
       "      <td>S</td>\n",
       "    </tr>\n",
       "    <tr>\n",
       "      <th>886</th>\n",
       "      <td>0</td>\n",
       "      <td>3</td>\n",
       "      <td>Rice, Mrs. William (Margaret Norton)</td>\n",
       "      <td>female</td>\n",
       "      <td>39.0</td>\n",
       "      <td>0</td>\n",
       "      <td>5</td>\n",
       "      <td>382652</td>\n",
       "      <td>29.1250</td>\n",
       "      <td>NaN</td>\n",
       "      <td>Q</td>\n",
       "    </tr>\n",
       "    <tr>\n",
       "      <th>888</th>\n",
       "      <td>1</td>\n",
       "      <td>1</td>\n",
       "      <td>Graham, Miss. Margaret Edith</td>\n",
       "      <td>female</td>\n",
       "      <td>19.0</td>\n",
       "      <td>0</td>\n",
       "      <td>0</td>\n",
       "      <td>112053</td>\n",
       "      <td>30.0000</td>\n",
       "      <td>B42</td>\n",
       "      <td>S</td>\n",
       "    </tr>\n",
       "    <tr>\n",
       "      <th>889</th>\n",
       "      <td>0</td>\n",
       "      <td>3</td>\n",
       "      <td>Johnston, Miss. Catherine Helen \"Carrie\"</td>\n",
       "      <td>female</td>\n",
       "      <td>NaN</td>\n",
       "      <td>1</td>\n",
       "      <td>2</td>\n",
       "      <td>W./C. 6607</td>\n",
       "      <td>23.4500</td>\n",
       "      <td>NaN</td>\n",
       "      <td>S</td>\n",
       "    </tr>\n",
       "  </tbody>\n",
       "</table>\n",
       "<p>314 rows × 11 columns</p>\n",
       "</div>"
      ],
      "text/plain": [
       "             Survived  Pclass  \\\n",
       "PassengerId                     \n",
       "2                   1       1   \n",
       "3                   1       3   \n",
       "4                   1       1   \n",
       "9                   1       3   \n",
       "10                  1       2   \n",
       "...               ...     ...   \n",
       "881                 1       2   \n",
       "883                 0       3   \n",
       "886                 0       3   \n",
       "888                 1       1   \n",
       "889                 0       3   \n",
       "\n",
       "                                                          Name     Sex   Age  \\\n",
       "PassengerId                                                                    \n",
       "2            Cumings, Mrs. John Bradley (Florence Briggs Th...  female  38.0   \n",
       "3                                       Heikkinen, Miss. Laina  female  26.0   \n",
       "4                 Futrelle, Mrs. Jacques Heath (Lily May Peel)  female  35.0   \n",
       "9            Johnson, Mrs. Oscar W (Elisabeth Vilhelmina Berg)  female  27.0   \n",
       "10                         Nasser, Mrs. Nicholas (Adele Achem)  female  14.0   \n",
       "...                                                        ...     ...   ...   \n",
       "881               Shelley, Mrs. William (Imanita Parrish Hall)  female  25.0   \n",
       "883                               Dahlberg, Miss. Gerda Ulrika  female  22.0   \n",
       "886                       Rice, Mrs. William (Margaret Norton)  female  39.0   \n",
       "888                               Graham, Miss. Margaret Edith  female  19.0   \n",
       "889                   Johnston, Miss. Catherine Helen \"Carrie\"  female   NaN   \n",
       "\n",
       "             SibSp  Parch            Ticket     Fare Cabin Embarked  \n",
       "PassengerId                                                          \n",
       "2                1      0          PC 17599  71.2833   C85        C  \n",
       "3                0      0  STON/O2. 3101282   7.9250   NaN        S  \n",
       "4                1      0            113803  53.1000  C123        S  \n",
       "9                0      2            347742  11.1333   NaN        S  \n",
       "10               1      0            237736  30.0708   NaN        C  \n",
       "...            ...    ...               ...      ...   ...      ...  \n",
       "881              0      1            230433  26.0000   NaN        S  \n",
       "883              0      0              7552  10.5167   NaN        S  \n",
       "886              0      5            382652  29.1250   NaN        Q  \n",
       "888              0      0            112053  30.0000   B42        S  \n",
       "889              1      2        W./C. 6607  23.4500   NaN        S  \n",
       "\n",
       "[314 rows x 11 columns]"
      ]
     },
     "execution_count": 5,
     "metadata": {},
     "output_type": "execute_result"
    }
   ],
   "source": [
    "titanic[titanic['Sex'] == 'female']"
   ]
  },
  {
   "cell_type": "code",
   "execution_count": 21,
   "id": "1bfb4e7a",
   "metadata": {},
   "outputs": [
    {
     "data": {
      "text/html": [
       "<div>\n",
       "<style scoped>\n",
       "    .dataframe tbody tr th:only-of-type {\n",
       "        vertical-align: middle;\n",
       "    }\n",
       "\n",
       "    .dataframe tbody tr th {\n",
       "        vertical-align: top;\n",
       "    }\n",
       "\n",
       "    .dataframe thead th {\n",
       "        text-align: right;\n",
       "    }\n",
       "</style>\n",
       "<table border=\"1\" class=\"dataframe\">\n",
       "  <thead>\n",
       "    <tr style=\"text-align: right;\">\n",
       "      <th></th>\n",
       "      <th>Survived</th>\n",
       "      <th>Pclass</th>\n",
       "      <th>Name</th>\n",
       "      <th>Sex</th>\n",
       "      <th>Age</th>\n",
       "      <th>SibSp</th>\n",
       "      <th>Parch</th>\n",
       "      <th>Ticket</th>\n",
       "      <th>Fare</th>\n",
       "      <th>Cabin</th>\n",
       "      <th>Embarked</th>\n",
       "    </tr>\n",
       "    <tr>\n",
       "      <th>PassengerId</th>\n",
       "      <th></th>\n",
       "      <th></th>\n",
       "      <th></th>\n",
       "      <th></th>\n",
       "      <th></th>\n",
       "      <th></th>\n",
       "      <th></th>\n",
       "      <th></th>\n",
       "      <th></th>\n",
       "      <th></th>\n",
       "      <th></th>\n",
       "    </tr>\n",
       "  </thead>\n",
       "  <tbody>\n",
       "    <tr>\n",
       "      <th>7</th>\n",
       "      <td>0</td>\n",
       "      <td>1</td>\n",
       "      <td>McCarthy, Mr. Timothy J</td>\n",
       "      <td>male</td>\n",
       "      <td>54.0</td>\n",
       "      <td>0</td>\n",
       "      <td>0</td>\n",
       "      <td>17463</td>\n",
       "      <td>51.8625</td>\n",
       "      <td>E46</td>\n",
       "      <td>S</td>\n",
       "    </tr>\n",
       "    <tr>\n",
       "      <th>8</th>\n",
       "      <td>0</td>\n",
       "      <td>3</td>\n",
       "      <td>Palsson, Master. Gosta Leonard</td>\n",
       "      <td>male</td>\n",
       "      <td>2.0</td>\n",
       "      <td>3</td>\n",
       "      <td>1</td>\n",
       "      <td>349909</td>\n",
       "      <td>21.0750</td>\n",
       "      <td>NaN</td>\n",
       "      <td>S</td>\n",
       "    </tr>\n",
       "    <tr>\n",
       "      <th>9</th>\n",
       "      <td>1</td>\n",
       "      <td>3</td>\n",
       "      <td>Johnson, Mrs. Oscar W (Elisabeth Vilhelmina Berg)</td>\n",
       "      <td>female</td>\n",
       "      <td>27.0</td>\n",
       "      <td>0</td>\n",
       "      <td>2</td>\n",
       "      <td>347742</td>\n",
       "      <td>11.1333</td>\n",
       "      <td>NaN</td>\n",
       "      <td>S</td>\n",
       "    </tr>\n",
       "    <tr>\n",
       "      <th>10</th>\n",
       "      <td>1</td>\n",
       "      <td>2</td>\n",
       "      <td>Nasser, Mrs. Nicholas (Adele Achem)</td>\n",
       "      <td>female</td>\n",
       "      <td>14.0</td>\n",
       "      <td>1</td>\n",
       "      <td>0</td>\n",
       "      <td>237736</td>\n",
       "      <td>30.0708</td>\n",
       "      <td>NaN</td>\n",
       "      <td>C</td>\n",
       "    </tr>\n",
       "    <tr>\n",
       "      <th>11</th>\n",
       "      <td>1</td>\n",
       "      <td>3</td>\n",
       "      <td>Sandstrom, Miss. Marguerite Rut</td>\n",
       "      <td>female</td>\n",
       "      <td>4.0</td>\n",
       "      <td>1</td>\n",
       "      <td>1</td>\n",
       "      <td>PP 9549</td>\n",
       "      <td>16.7000</td>\n",
       "      <td>G6</td>\n",
       "      <td>S</td>\n",
       "    </tr>\n",
       "    <tr>\n",
       "      <th>12</th>\n",
       "      <td>1</td>\n",
       "      <td>1</td>\n",
       "      <td>Bonnell, Miss. Elizabeth</td>\n",
       "      <td>female</td>\n",
       "      <td>58.0</td>\n",
       "      <td>0</td>\n",
       "      <td>0</td>\n",
       "      <td>113783</td>\n",
       "      <td>26.5500</td>\n",
       "      <td>C103</td>\n",
       "      <td>S</td>\n",
       "    </tr>\n",
       "    <tr>\n",
       "      <th>13</th>\n",
       "      <td>0</td>\n",
       "      <td>3</td>\n",
       "      <td>Saundercock, Mr. William Henry</td>\n",
       "      <td>male</td>\n",
       "      <td>20.0</td>\n",
       "      <td>0</td>\n",
       "      <td>0</td>\n",
       "      <td>A/5. 2151</td>\n",
       "      <td>8.0500</td>\n",
       "      <td>NaN</td>\n",
       "      <td>S</td>\n",
       "    </tr>\n",
       "    <tr>\n",
       "      <th>14</th>\n",
       "      <td>0</td>\n",
       "      <td>3</td>\n",
       "      <td>Andersson, Mr. Anders Johan</td>\n",
       "      <td>male</td>\n",
       "      <td>39.0</td>\n",
       "      <td>1</td>\n",
       "      <td>5</td>\n",
       "      <td>347082</td>\n",
       "      <td>31.2750</td>\n",
       "      <td>NaN</td>\n",
       "      <td>S</td>\n",
       "    </tr>\n",
       "  </tbody>\n",
       "</table>\n",
       "</div>"
      ],
      "text/plain": [
       "             Survived  Pclass  \\\n",
       "PassengerId                     \n",
       "7                   0       1   \n",
       "8                   0       3   \n",
       "9                   1       3   \n",
       "10                  1       2   \n",
       "11                  1       3   \n",
       "12                  1       1   \n",
       "13                  0       3   \n",
       "14                  0       3   \n",
       "\n",
       "                                                          Name     Sex   Age  \\\n",
       "PassengerId                                                                    \n",
       "7                                      McCarthy, Mr. Timothy J    male  54.0   \n",
       "8                               Palsson, Master. Gosta Leonard    male   2.0   \n",
       "9            Johnson, Mrs. Oscar W (Elisabeth Vilhelmina Berg)  female  27.0   \n",
       "10                         Nasser, Mrs. Nicholas (Adele Achem)  female  14.0   \n",
       "11                             Sandstrom, Miss. Marguerite Rut  female   4.0   \n",
       "12                                    Bonnell, Miss. Elizabeth  female  58.0   \n",
       "13                              Saundercock, Mr. William Henry    male  20.0   \n",
       "14                                 Andersson, Mr. Anders Johan    male  39.0   \n",
       "\n",
       "             SibSp  Parch     Ticket     Fare Cabin Embarked  \n",
       "PassengerId                                                   \n",
       "7                0      0      17463  51.8625   E46        S  \n",
       "8                3      1     349909  21.0750   NaN        S  \n",
       "9                0      2     347742  11.1333   NaN        S  \n",
       "10               1      0     237736  30.0708   NaN        C  \n",
       "11               1      1    PP 9549  16.7000    G6        S  \n",
       "12               0      0     113783  26.5500  C103        S  \n",
       "13               0      0  A/5. 2151   8.0500   NaN        S  \n",
       "14               1      5     347082  31.2750   NaN        S  "
      ]
     },
     "execution_count": 21,
     "metadata": {},
     "output_type": "execute_result"
    }
   ],
   "source": [
    "titanic[6:14]"
   ]
  },
  {
   "cell_type": "code",
   "execution_count": 22,
   "id": "28d9626d",
   "metadata": {
    "scrolled": true
   },
   "outputs": [
    {
     "data": {
      "text/html": [
       "<div>\n",
       "<style scoped>\n",
       "    .dataframe tbody tr th:only-of-type {\n",
       "        vertical-align: middle;\n",
       "    }\n",
       "\n",
       "    .dataframe tbody tr th {\n",
       "        vertical-align: top;\n",
       "    }\n",
       "\n",
       "    .dataframe thead th {\n",
       "        text-align: right;\n",
       "    }\n",
       "</style>\n",
       "<table border=\"1\" class=\"dataframe\">\n",
       "  <thead>\n",
       "    <tr style=\"text-align: right;\">\n",
       "      <th></th>\n",
       "      <th>Survived</th>\n",
       "      <th>Pclass</th>\n",
       "      <th>Name</th>\n",
       "      <th>Sex</th>\n",
       "      <th>Age</th>\n",
       "      <th>SibSp</th>\n",
       "      <th>Parch</th>\n",
       "      <th>Ticket</th>\n",
       "      <th>Fare</th>\n",
       "      <th>Cabin</th>\n",
       "      <th>Embarked</th>\n",
       "    </tr>\n",
       "    <tr>\n",
       "      <th>PassengerId</th>\n",
       "      <th></th>\n",
       "      <th></th>\n",
       "      <th></th>\n",
       "      <th></th>\n",
       "      <th></th>\n",
       "      <th></th>\n",
       "      <th></th>\n",
       "      <th></th>\n",
       "      <th></th>\n",
       "      <th></th>\n",
       "      <th></th>\n",
       "    </tr>\n",
       "  </thead>\n",
       "  <tbody>\n",
       "    <tr>\n",
       "      <th>1</th>\n",
       "      <td>0</td>\n",
       "      <td>3</td>\n",
       "      <td>Braund, Mr. Owen Harris</td>\n",
       "      <td>male</td>\n",
       "      <td>22.0</td>\n",
       "      <td>1</td>\n",
       "      <td>0</td>\n",
       "      <td>A/5 21171</td>\n",
       "      <td>7.2500</td>\n",
       "      <td>NaN</td>\n",
       "      <td>S</td>\n",
       "    </tr>\n",
       "    <tr>\n",
       "      <th>2</th>\n",
       "      <td>1</td>\n",
       "      <td>1</td>\n",
       "      <td>Cumings, Mrs. John Bradley (Florence Briggs Th...</td>\n",
       "      <td>female</td>\n",
       "      <td>38.0</td>\n",
       "      <td>1</td>\n",
       "      <td>0</td>\n",
       "      <td>PC 17599</td>\n",
       "      <td>71.2833</td>\n",
       "      <td>C85</td>\n",
       "      <td>C</td>\n",
       "    </tr>\n",
       "    <tr>\n",
       "      <th>3</th>\n",
       "      <td>1</td>\n",
       "      <td>3</td>\n",
       "      <td>Heikkinen, Miss. Laina</td>\n",
       "      <td>female</td>\n",
       "      <td>26.0</td>\n",
       "      <td>0</td>\n",
       "      <td>0</td>\n",
       "      <td>STON/O2. 3101282</td>\n",
       "      <td>7.9250</td>\n",
       "      <td>NaN</td>\n",
       "      <td>S</td>\n",
       "    </tr>\n",
       "    <tr>\n",
       "      <th>4</th>\n",
       "      <td>1</td>\n",
       "      <td>1</td>\n",
       "      <td>Futrelle, Mrs. Jacques Heath (Lily May Peel)</td>\n",
       "      <td>female</td>\n",
       "      <td>35.0</td>\n",
       "      <td>1</td>\n",
       "      <td>0</td>\n",
       "      <td>113803</td>\n",
       "      <td>53.1000</td>\n",
       "      <td>C123</td>\n",
       "      <td>S</td>\n",
       "    </tr>\n",
       "    <tr>\n",
       "      <th>5</th>\n",
       "      <td>0</td>\n",
       "      <td>3</td>\n",
       "      <td>Allen, Mr. William Henry</td>\n",
       "      <td>male</td>\n",
       "      <td>35.0</td>\n",
       "      <td>0</td>\n",
       "      <td>0</td>\n",
       "      <td>373450</td>\n",
       "      <td>8.0500</td>\n",
       "      <td>NaN</td>\n",
       "      <td>S</td>\n",
       "    </tr>\n",
       "    <tr>\n",
       "      <th>6</th>\n",
       "      <td>0</td>\n",
       "      <td>3</td>\n",
       "      <td>Moran, Mr. James</td>\n",
       "      <td>male</td>\n",
       "      <td>NaN</td>\n",
       "      <td>0</td>\n",
       "      <td>0</td>\n",
       "      <td>330877</td>\n",
       "      <td>8.4583</td>\n",
       "      <td>NaN</td>\n",
       "      <td>Q</td>\n",
       "    </tr>\n",
       "    <tr>\n",
       "      <th>7</th>\n",
       "      <td>0</td>\n",
       "      <td>1</td>\n",
       "      <td>McCarthy, Mr. Timothy J</td>\n",
       "      <td>male</td>\n",
       "      <td>54.0</td>\n",
       "      <td>0</td>\n",
       "      <td>0</td>\n",
       "      <td>17463</td>\n",
       "      <td>51.8625</td>\n",
       "      <td>E46</td>\n",
       "      <td>S</td>\n",
       "    </tr>\n",
       "    <tr>\n",
       "      <th>8</th>\n",
       "      <td>0</td>\n",
       "      <td>3</td>\n",
       "      <td>Palsson, Master. Gosta Leonard</td>\n",
       "      <td>male</td>\n",
       "      <td>2.0</td>\n",
       "      <td>3</td>\n",
       "      <td>1</td>\n",
       "      <td>349909</td>\n",
       "      <td>21.0750</td>\n",
       "      <td>NaN</td>\n",
       "      <td>S</td>\n",
       "    </tr>\n",
       "    <tr>\n",
       "      <th>9</th>\n",
       "      <td>1</td>\n",
       "      <td>3</td>\n",
       "      <td>Johnson, Mrs. Oscar W (Elisabeth Vilhelmina Berg)</td>\n",
       "      <td>female</td>\n",
       "      <td>27.0</td>\n",
       "      <td>0</td>\n",
       "      <td>2</td>\n",
       "      <td>347742</td>\n",
       "      <td>11.1333</td>\n",
       "      <td>NaN</td>\n",
       "      <td>S</td>\n",
       "    </tr>\n",
       "    <tr>\n",
       "      <th>10</th>\n",
       "      <td>1</td>\n",
       "      <td>2</td>\n",
       "      <td>Nasser, Mrs. Nicholas (Adele Achem)</td>\n",
       "      <td>female</td>\n",
       "      <td>14.0</td>\n",
       "      <td>1</td>\n",
       "      <td>0</td>\n",
       "      <td>237736</td>\n",
       "      <td>30.0708</td>\n",
       "      <td>NaN</td>\n",
       "      <td>C</td>\n",
       "    </tr>\n",
       "  </tbody>\n",
       "</table>\n",
       "</div>"
      ],
      "text/plain": [
       "             Survived  Pclass  \\\n",
       "PassengerId                     \n",
       "1                   0       3   \n",
       "2                   1       1   \n",
       "3                   1       3   \n",
       "4                   1       1   \n",
       "5                   0       3   \n",
       "6                   0       3   \n",
       "7                   0       1   \n",
       "8                   0       3   \n",
       "9                   1       3   \n",
       "10                  1       2   \n",
       "\n",
       "                                                          Name     Sex   Age  \\\n",
       "PassengerId                                                                    \n",
       "1                                      Braund, Mr. Owen Harris    male  22.0   \n",
       "2            Cumings, Mrs. John Bradley (Florence Briggs Th...  female  38.0   \n",
       "3                                       Heikkinen, Miss. Laina  female  26.0   \n",
       "4                 Futrelle, Mrs. Jacques Heath (Lily May Peel)  female  35.0   \n",
       "5                                     Allen, Mr. William Henry    male  35.0   \n",
       "6                                             Moran, Mr. James    male   NaN   \n",
       "7                                      McCarthy, Mr. Timothy J    male  54.0   \n",
       "8                               Palsson, Master. Gosta Leonard    male   2.0   \n",
       "9            Johnson, Mrs. Oscar W (Elisabeth Vilhelmina Berg)  female  27.0   \n",
       "10                         Nasser, Mrs. Nicholas (Adele Achem)  female  14.0   \n",
       "\n",
       "             SibSp  Parch            Ticket     Fare Cabin Embarked  \n",
       "PassengerId                                                          \n",
       "1                1      0         A/5 21171   7.2500   NaN        S  \n",
       "2                1      0          PC 17599  71.2833   C85        C  \n",
       "3                0      0  STON/O2. 3101282   7.9250   NaN        S  \n",
       "4                1      0            113803  53.1000  C123        S  \n",
       "5                0      0            373450   8.0500   NaN        S  \n",
       "6                0      0            330877   8.4583   NaN        Q  \n",
       "7                0      0             17463  51.8625   E46        S  \n",
       "8                3      1            349909  21.0750   NaN        S  \n",
       "9                0      2            347742  11.1333   NaN        S  \n",
       "10               1      0            237736  30.0708   NaN        C  "
      ]
     },
     "execution_count": 22,
     "metadata": {},
     "output_type": "execute_result"
    }
   ],
   "source": [
    "titanic.head(10)"
   ]
  },
  {
   "cell_type": "code",
   "execution_count": 23,
   "id": "6a602330",
   "metadata": {},
   "outputs": [
    {
     "data": {
      "text/html": [
       "<div>\n",
       "<style scoped>\n",
       "    .dataframe tbody tr th:only-of-type {\n",
       "        vertical-align: middle;\n",
       "    }\n",
       "\n",
       "    .dataframe tbody tr th {\n",
       "        vertical-align: top;\n",
       "    }\n",
       "\n",
       "    .dataframe thead th {\n",
       "        text-align: right;\n",
       "    }\n",
       "</style>\n",
       "<table border=\"1\" class=\"dataframe\">\n",
       "  <thead>\n",
       "    <tr style=\"text-align: right;\">\n",
       "      <th></th>\n",
       "      <th>Survived</th>\n",
       "      <th>Pclass</th>\n",
       "      <th>Name</th>\n",
       "      <th>Sex</th>\n",
       "      <th>Age</th>\n",
       "      <th>SibSp</th>\n",
       "      <th>Parch</th>\n",
       "      <th>Ticket</th>\n",
       "      <th>Fare</th>\n",
       "      <th>Cabin</th>\n",
       "      <th>Embarked</th>\n",
       "    </tr>\n",
       "    <tr>\n",
       "      <th>PassengerId</th>\n",
       "      <th></th>\n",
       "      <th></th>\n",
       "      <th></th>\n",
       "      <th></th>\n",
       "      <th></th>\n",
       "      <th></th>\n",
       "      <th></th>\n",
       "      <th></th>\n",
       "      <th></th>\n",
       "      <th></th>\n",
       "      <th></th>\n",
       "    </tr>\n",
       "  </thead>\n",
       "  <tbody>\n",
       "    <tr>\n",
       "      <th>862</th>\n",
       "      <td>0</td>\n",
       "      <td>2</td>\n",
       "      <td>Giles, Mr. Frederick Edward</td>\n",
       "      <td>male</td>\n",
       "      <td>21.0</td>\n",
       "      <td>1</td>\n",
       "      <td>0</td>\n",
       "      <td>28134</td>\n",
       "      <td>11.5000</td>\n",
       "      <td>NaN</td>\n",
       "      <td>S</td>\n",
       "    </tr>\n",
       "    <tr>\n",
       "      <th>863</th>\n",
       "      <td>1</td>\n",
       "      <td>1</td>\n",
       "      <td>Swift, Mrs. Frederick Joel (Margaret Welles Ba...</td>\n",
       "      <td>female</td>\n",
       "      <td>48.0</td>\n",
       "      <td>0</td>\n",
       "      <td>0</td>\n",
       "      <td>17466</td>\n",
       "      <td>25.9292</td>\n",
       "      <td>D17</td>\n",
       "      <td>S</td>\n",
       "    </tr>\n",
       "    <tr>\n",
       "      <th>864</th>\n",
       "      <td>0</td>\n",
       "      <td>3</td>\n",
       "      <td>Sage, Miss. Dorothy Edith \"Dolly\"</td>\n",
       "      <td>female</td>\n",
       "      <td>NaN</td>\n",
       "      <td>8</td>\n",
       "      <td>2</td>\n",
       "      <td>CA. 2343</td>\n",
       "      <td>69.5500</td>\n",
       "      <td>NaN</td>\n",
       "      <td>S</td>\n",
       "    </tr>\n",
       "    <tr>\n",
       "      <th>865</th>\n",
       "      <td>0</td>\n",
       "      <td>2</td>\n",
       "      <td>Gill, Mr. John William</td>\n",
       "      <td>male</td>\n",
       "      <td>24.0</td>\n",
       "      <td>0</td>\n",
       "      <td>0</td>\n",
       "      <td>233866</td>\n",
       "      <td>13.0000</td>\n",
       "      <td>NaN</td>\n",
       "      <td>S</td>\n",
       "    </tr>\n",
       "    <tr>\n",
       "      <th>866</th>\n",
       "      <td>1</td>\n",
       "      <td>2</td>\n",
       "      <td>Bystrom, Mrs. (Karolina)</td>\n",
       "      <td>female</td>\n",
       "      <td>42.0</td>\n",
       "      <td>0</td>\n",
       "      <td>0</td>\n",
       "      <td>236852</td>\n",
       "      <td>13.0000</td>\n",
       "      <td>NaN</td>\n",
       "      <td>S</td>\n",
       "    </tr>\n",
       "    <tr>\n",
       "      <th>867</th>\n",
       "      <td>1</td>\n",
       "      <td>2</td>\n",
       "      <td>Duran y More, Miss. Asuncion</td>\n",
       "      <td>female</td>\n",
       "      <td>27.0</td>\n",
       "      <td>1</td>\n",
       "      <td>0</td>\n",
       "      <td>SC/PARIS 2149</td>\n",
       "      <td>13.8583</td>\n",
       "      <td>NaN</td>\n",
       "      <td>C</td>\n",
       "    </tr>\n",
       "    <tr>\n",
       "      <th>868</th>\n",
       "      <td>0</td>\n",
       "      <td>1</td>\n",
       "      <td>Roebling, Mr. Washington Augustus II</td>\n",
       "      <td>male</td>\n",
       "      <td>31.0</td>\n",
       "      <td>0</td>\n",
       "      <td>0</td>\n",
       "      <td>PC 17590</td>\n",
       "      <td>50.4958</td>\n",
       "      <td>A24</td>\n",
       "      <td>S</td>\n",
       "    </tr>\n",
       "    <tr>\n",
       "      <th>869</th>\n",
       "      <td>0</td>\n",
       "      <td>3</td>\n",
       "      <td>van Melkebeke, Mr. Philemon</td>\n",
       "      <td>male</td>\n",
       "      <td>NaN</td>\n",
       "      <td>0</td>\n",
       "      <td>0</td>\n",
       "      <td>345777</td>\n",
       "      <td>9.5000</td>\n",
       "      <td>NaN</td>\n",
       "      <td>S</td>\n",
       "    </tr>\n",
       "    <tr>\n",
       "      <th>870</th>\n",
       "      <td>1</td>\n",
       "      <td>3</td>\n",
       "      <td>Johnson, Master. Harold Theodor</td>\n",
       "      <td>male</td>\n",
       "      <td>4.0</td>\n",
       "      <td>1</td>\n",
       "      <td>1</td>\n",
       "      <td>347742</td>\n",
       "      <td>11.1333</td>\n",
       "      <td>NaN</td>\n",
       "      <td>S</td>\n",
       "    </tr>\n",
       "    <tr>\n",
       "      <th>871</th>\n",
       "      <td>0</td>\n",
       "      <td>3</td>\n",
       "      <td>Balkic, Mr. Cerin</td>\n",
       "      <td>male</td>\n",
       "      <td>26.0</td>\n",
       "      <td>0</td>\n",
       "      <td>0</td>\n",
       "      <td>349248</td>\n",
       "      <td>7.8958</td>\n",
       "      <td>NaN</td>\n",
       "      <td>S</td>\n",
       "    </tr>\n",
       "    <tr>\n",
       "      <th>872</th>\n",
       "      <td>1</td>\n",
       "      <td>1</td>\n",
       "      <td>Beckwith, Mrs. Richard Leonard (Sallie Monypeny)</td>\n",
       "      <td>female</td>\n",
       "      <td>47.0</td>\n",
       "      <td>1</td>\n",
       "      <td>1</td>\n",
       "      <td>11751</td>\n",
       "      <td>52.5542</td>\n",
       "      <td>D35</td>\n",
       "      <td>S</td>\n",
       "    </tr>\n",
       "    <tr>\n",
       "      <th>873</th>\n",
       "      <td>0</td>\n",
       "      <td>1</td>\n",
       "      <td>Carlsson, Mr. Frans Olof</td>\n",
       "      <td>male</td>\n",
       "      <td>33.0</td>\n",
       "      <td>0</td>\n",
       "      <td>0</td>\n",
       "      <td>695</td>\n",
       "      <td>5.0000</td>\n",
       "      <td>B51 B53 B55</td>\n",
       "      <td>S</td>\n",
       "    </tr>\n",
       "    <tr>\n",
       "      <th>874</th>\n",
       "      <td>0</td>\n",
       "      <td>3</td>\n",
       "      <td>Vander Cruyssen, Mr. Victor</td>\n",
       "      <td>male</td>\n",
       "      <td>47.0</td>\n",
       "      <td>0</td>\n",
       "      <td>0</td>\n",
       "      <td>345765</td>\n",
       "      <td>9.0000</td>\n",
       "      <td>NaN</td>\n",
       "      <td>S</td>\n",
       "    </tr>\n",
       "    <tr>\n",
       "      <th>875</th>\n",
       "      <td>1</td>\n",
       "      <td>2</td>\n",
       "      <td>Abelson, Mrs. Samuel (Hannah Wizosky)</td>\n",
       "      <td>female</td>\n",
       "      <td>28.0</td>\n",
       "      <td>1</td>\n",
       "      <td>0</td>\n",
       "      <td>P/PP 3381</td>\n",
       "      <td>24.0000</td>\n",
       "      <td>NaN</td>\n",
       "      <td>C</td>\n",
       "    </tr>\n",
       "    <tr>\n",
       "      <th>876</th>\n",
       "      <td>1</td>\n",
       "      <td>3</td>\n",
       "      <td>Najib, Miss. Adele Kiamie \"Jane\"</td>\n",
       "      <td>female</td>\n",
       "      <td>15.0</td>\n",
       "      <td>0</td>\n",
       "      <td>0</td>\n",
       "      <td>2667</td>\n",
       "      <td>7.2250</td>\n",
       "      <td>NaN</td>\n",
       "      <td>C</td>\n",
       "    </tr>\n",
       "    <tr>\n",
       "      <th>877</th>\n",
       "      <td>0</td>\n",
       "      <td>3</td>\n",
       "      <td>Gustafsson, Mr. Alfred Ossian</td>\n",
       "      <td>male</td>\n",
       "      <td>20.0</td>\n",
       "      <td>0</td>\n",
       "      <td>0</td>\n",
       "      <td>7534</td>\n",
       "      <td>9.8458</td>\n",
       "      <td>NaN</td>\n",
       "      <td>S</td>\n",
       "    </tr>\n",
       "    <tr>\n",
       "      <th>878</th>\n",
       "      <td>0</td>\n",
       "      <td>3</td>\n",
       "      <td>Petroff, Mr. Nedelio</td>\n",
       "      <td>male</td>\n",
       "      <td>19.0</td>\n",
       "      <td>0</td>\n",
       "      <td>0</td>\n",
       "      <td>349212</td>\n",
       "      <td>7.8958</td>\n",
       "      <td>NaN</td>\n",
       "      <td>S</td>\n",
       "    </tr>\n",
       "    <tr>\n",
       "      <th>879</th>\n",
       "      <td>0</td>\n",
       "      <td>3</td>\n",
       "      <td>Laleff, Mr. Kristo</td>\n",
       "      <td>male</td>\n",
       "      <td>NaN</td>\n",
       "      <td>0</td>\n",
       "      <td>0</td>\n",
       "      <td>349217</td>\n",
       "      <td>7.8958</td>\n",
       "      <td>NaN</td>\n",
       "      <td>S</td>\n",
       "    </tr>\n",
       "    <tr>\n",
       "      <th>880</th>\n",
       "      <td>1</td>\n",
       "      <td>1</td>\n",
       "      <td>Potter, Mrs. Thomas Jr (Lily Alexenia Wilson)</td>\n",
       "      <td>female</td>\n",
       "      <td>56.0</td>\n",
       "      <td>0</td>\n",
       "      <td>1</td>\n",
       "      <td>11767</td>\n",
       "      <td>83.1583</td>\n",
       "      <td>C50</td>\n",
       "      <td>C</td>\n",
       "    </tr>\n",
       "    <tr>\n",
       "      <th>881</th>\n",
       "      <td>1</td>\n",
       "      <td>2</td>\n",
       "      <td>Shelley, Mrs. William (Imanita Parrish Hall)</td>\n",
       "      <td>female</td>\n",
       "      <td>25.0</td>\n",
       "      <td>0</td>\n",
       "      <td>1</td>\n",
       "      <td>230433</td>\n",
       "      <td>26.0000</td>\n",
       "      <td>NaN</td>\n",
       "      <td>S</td>\n",
       "    </tr>\n",
       "    <tr>\n",
       "      <th>882</th>\n",
       "      <td>0</td>\n",
       "      <td>3</td>\n",
       "      <td>Markun, Mr. Johann</td>\n",
       "      <td>male</td>\n",
       "      <td>33.0</td>\n",
       "      <td>0</td>\n",
       "      <td>0</td>\n",
       "      <td>349257</td>\n",
       "      <td>7.8958</td>\n",
       "      <td>NaN</td>\n",
       "      <td>S</td>\n",
       "    </tr>\n",
       "    <tr>\n",
       "      <th>883</th>\n",
       "      <td>0</td>\n",
       "      <td>3</td>\n",
       "      <td>Dahlberg, Miss. Gerda Ulrika</td>\n",
       "      <td>female</td>\n",
       "      <td>22.0</td>\n",
       "      <td>0</td>\n",
       "      <td>0</td>\n",
       "      <td>7552</td>\n",
       "      <td>10.5167</td>\n",
       "      <td>NaN</td>\n",
       "      <td>S</td>\n",
       "    </tr>\n",
       "    <tr>\n",
       "      <th>884</th>\n",
       "      <td>0</td>\n",
       "      <td>2</td>\n",
       "      <td>Banfield, Mr. Frederick James</td>\n",
       "      <td>male</td>\n",
       "      <td>28.0</td>\n",
       "      <td>0</td>\n",
       "      <td>0</td>\n",
       "      <td>C.A./SOTON 34068</td>\n",
       "      <td>10.5000</td>\n",
       "      <td>NaN</td>\n",
       "      <td>S</td>\n",
       "    </tr>\n",
       "    <tr>\n",
       "      <th>885</th>\n",
       "      <td>0</td>\n",
       "      <td>3</td>\n",
       "      <td>Sutehall, Mr. Henry Jr</td>\n",
       "      <td>male</td>\n",
       "      <td>25.0</td>\n",
       "      <td>0</td>\n",
       "      <td>0</td>\n",
       "      <td>SOTON/OQ 392076</td>\n",
       "      <td>7.0500</td>\n",
       "      <td>NaN</td>\n",
       "      <td>S</td>\n",
       "    </tr>\n",
       "    <tr>\n",
       "      <th>886</th>\n",
       "      <td>0</td>\n",
       "      <td>3</td>\n",
       "      <td>Rice, Mrs. William (Margaret Norton)</td>\n",
       "      <td>female</td>\n",
       "      <td>39.0</td>\n",
       "      <td>0</td>\n",
       "      <td>5</td>\n",
       "      <td>382652</td>\n",
       "      <td>29.1250</td>\n",
       "      <td>NaN</td>\n",
       "      <td>Q</td>\n",
       "    </tr>\n",
       "    <tr>\n",
       "      <th>887</th>\n",
       "      <td>0</td>\n",
       "      <td>2</td>\n",
       "      <td>Montvila, Rev. Juozas</td>\n",
       "      <td>male</td>\n",
       "      <td>27.0</td>\n",
       "      <td>0</td>\n",
       "      <td>0</td>\n",
       "      <td>211536</td>\n",
       "      <td>13.0000</td>\n",
       "      <td>NaN</td>\n",
       "      <td>S</td>\n",
       "    </tr>\n",
       "    <tr>\n",
       "      <th>888</th>\n",
       "      <td>1</td>\n",
       "      <td>1</td>\n",
       "      <td>Graham, Miss. Margaret Edith</td>\n",
       "      <td>female</td>\n",
       "      <td>19.0</td>\n",
       "      <td>0</td>\n",
       "      <td>0</td>\n",
       "      <td>112053</td>\n",
       "      <td>30.0000</td>\n",
       "      <td>B42</td>\n",
       "      <td>S</td>\n",
       "    </tr>\n",
       "    <tr>\n",
       "      <th>889</th>\n",
       "      <td>0</td>\n",
       "      <td>3</td>\n",
       "      <td>Johnston, Miss. Catherine Helen \"Carrie\"</td>\n",
       "      <td>female</td>\n",
       "      <td>NaN</td>\n",
       "      <td>1</td>\n",
       "      <td>2</td>\n",
       "      <td>W./C. 6607</td>\n",
       "      <td>23.4500</td>\n",
       "      <td>NaN</td>\n",
       "      <td>S</td>\n",
       "    </tr>\n",
       "    <tr>\n",
       "      <th>890</th>\n",
       "      <td>1</td>\n",
       "      <td>1</td>\n",
       "      <td>Behr, Mr. Karl Howell</td>\n",
       "      <td>male</td>\n",
       "      <td>26.0</td>\n",
       "      <td>0</td>\n",
       "      <td>0</td>\n",
       "      <td>111369</td>\n",
       "      <td>30.0000</td>\n",
       "      <td>C148</td>\n",
       "      <td>C</td>\n",
       "    </tr>\n",
       "    <tr>\n",
       "      <th>891</th>\n",
       "      <td>0</td>\n",
       "      <td>3</td>\n",
       "      <td>Dooley, Mr. Patrick</td>\n",
       "      <td>male</td>\n",
       "      <td>32.0</td>\n",
       "      <td>0</td>\n",
       "      <td>0</td>\n",
       "      <td>370376</td>\n",
       "      <td>7.7500</td>\n",
       "      <td>NaN</td>\n",
       "      <td>Q</td>\n",
       "    </tr>\n",
       "  </tbody>\n",
       "</table>\n",
       "</div>"
      ],
      "text/plain": [
       "             Survived  Pclass  \\\n",
       "PassengerId                     \n",
       "862                 0       2   \n",
       "863                 1       1   \n",
       "864                 0       3   \n",
       "865                 0       2   \n",
       "866                 1       2   \n",
       "867                 1       2   \n",
       "868                 0       1   \n",
       "869                 0       3   \n",
       "870                 1       3   \n",
       "871                 0       3   \n",
       "872                 1       1   \n",
       "873                 0       1   \n",
       "874                 0       3   \n",
       "875                 1       2   \n",
       "876                 1       3   \n",
       "877                 0       3   \n",
       "878                 0       3   \n",
       "879                 0       3   \n",
       "880                 1       1   \n",
       "881                 1       2   \n",
       "882                 0       3   \n",
       "883                 0       3   \n",
       "884                 0       2   \n",
       "885                 0       3   \n",
       "886                 0       3   \n",
       "887                 0       2   \n",
       "888                 1       1   \n",
       "889                 0       3   \n",
       "890                 1       1   \n",
       "891                 0       3   \n",
       "\n",
       "                                                          Name     Sex   Age  \\\n",
       "PassengerId                                                                    \n",
       "862                                Giles, Mr. Frederick Edward    male  21.0   \n",
       "863          Swift, Mrs. Frederick Joel (Margaret Welles Ba...  female  48.0   \n",
       "864                          Sage, Miss. Dorothy Edith \"Dolly\"  female   NaN   \n",
       "865                                     Gill, Mr. John William    male  24.0   \n",
       "866                                   Bystrom, Mrs. (Karolina)  female  42.0   \n",
       "867                               Duran y More, Miss. Asuncion  female  27.0   \n",
       "868                       Roebling, Mr. Washington Augustus II    male  31.0   \n",
       "869                                van Melkebeke, Mr. Philemon    male   NaN   \n",
       "870                            Johnson, Master. Harold Theodor    male   4.0   \n",
       "871                                          Balkic, Mr. Cerin    male  26.0   \n",
       "872           Beckwith, Mrs. Richard Leonard (Sallie Monypeny)  female  47.0   \n",
       "873                                   Carlsson, Mr. Frans Olof    male  33.0   \n",
       "874                                Vander Cruyssen, Mr. Victor    male  47.0   \n",
       "875                      Abelson, Mrs. Samuel (Hannah Wizosky)  female  28.0   \n",
       "876                           Najib, Miss. Adele Kiamie \"Jane\"  female  15.0   \n",
       "877                              Gustafsson, Mr. Alfred Ossian    male  20.0   \n",
       "878                                       Petroff, Mr. Nedelio    male  19.0   \n",
       "879                                         Laleff, Mr. Kristo    male   NaN   \n",
       "880              Potter, Mrs. Thomas Jr (Lily Alexenia Wilson)  female  56.0   \n",
       "881               Shelley, Mrs. William (Imanita Parrish Hall)  female  25.0   \n",
       "882                                         Markun, Mr. Johann    male  33.0   \n",
       "883                               Dahlberg, Miss. Gerda Ulrika  female  22.0   \n",
       "884                              Banfield, Mr. Frederick James    male  28.0   \n",
       "885                                     Sutehall, Mr. Henry Jr    male  25.0   \n",
       "886                       Rice, Mrs. William (Margaret Norton)  female  39.0   \n",
       "887                                      Montvila, Rev. Juozas    male  27.0   \n",
       "888                               Graham, Miss. Margaret Edith  female  19.0   \n",
       "889                   Johnston, Miss. Catherine Helen \"Carrie\"  female   NaN   \n",
       "890                                      Behr, Mr. Karl Howell    male  26.0   \n",
       "891                                        Dooley, Mr. Patrick    male  32.0   \n",
       "\n",
       "             SibSp  Parch            Ticket     Fare        Cabin Embarked  \n",
       "PassengerId                                                                 \n",
       "862              1      0             28134  11.5000          NaN        S  \n",
       "863              0      0             17466  25.9292          D17        S  \n",
       "864              8      2          CA. 2343  69.5500          NaN        S  \n",
       "865              0      0            233866  13.0000          NaN        S  \n",
       "866              0      0            236852  13.0000          NaN        S  \n",
       "867              1      0     SC/PARIS 2149  13.8583          NaN        C  \n",
       "868              0      0          PC 17590  50.4958          A24        S  \n",
       "869              0      0            345777   9.5000          NaN        S  \n",
       "870              1      1            347742  11.1333          NaN        S  \n",
       "871              0      0            349248   7.8958          NaN        S  \n",
       "872              1      1             11751  52.5542          D35        S  \n",
       "873              0      0               695   5.0000  B51 B53 B55        S  \n",
       "874              0      0            345765   9.0000          NaN        S  \n",
       "875              1      0         P/PP 3381  24.0000          NaN        C  \n",
       "876              0      0              2667   7.2250          NaN        C  \n",
       "877              0      0              7534   9.8458          NaN        S  \n",
       "878              0      0            349212   7.8958          NaN        S  \n",
       "879              0      0            349217   7.8958          NaN        S  \n",
       "880              0      1             11767  83.1583          C50        C  \n",
       "881              0      1            230433  26.0000          NaN        S  \n",
       "882              0      0            349257   7.8958          NaN        S  \n",
       "883              0      0              7552  10.5167          NaN        S  \n",
       "884              0      0  C.A./SOTON 34068  10.5000          NaN        S  \n",
       "885              0      0   SOTON/OQ 392076   7.0500          NaN        S  \n",
       "886              0      5            382652  29.1250          NaN        Q  \n",
       "887              0      0            211536  13.0000          NaN        S  \n",
       "888              0      0            112053  30.0000          B42        S  \n",
       "889              1      2        W./C. 6607  23.4500          NaN        S  \n",
       "890              0      0            111369  30.0000         C148        C  \n",
       "891              0      0            370376   7.7500          NaN        Q  "
      ]
     },
     "execution_count": 23,
     "metadata": {},
     "output_type": "execute_result"
    }
   ],
   "source": [
    "titanic.tail(30)"
   ]
  },
  {
   "cell_type": "code",
   "execution_count": 26,
   "id": "4314fbd5",
   "metadata": {},
   "outputs": [
    {
     "data": {
      "text/html": [
       "<div>\n",
       "<style scoped>\n",
       "    .dataframe tbody tr th:only-of-type {\n",
       "        vertical-align: middle;\n",
       "    }\n",
       "\n",
       "    .dataframe tbody tr th {\n",
       "        vertical-align: top;\n",
       "    }\n",
       "\n",
       "    .dataframe thead th {\n",
       "        text-align: right;\n",
       "    }\n",
       "</style>\n",
       "<table border=\"1\" class=\"dataframe\">\n",
       "  <thead>\n",
       "    <tr style=\"text-align: right;\">\n",
       "      <th></th>\n",
       "      <th>Survived</th>\n",
       "      <th>Pclass</th>\n",
       "      <th>Name</th>\n",
       "      <th>Sex</th>\n",
       "      <th>Age</th>\n",
       "      <th>SibSp</th>\n",
       "      <th>Parch</th>\n",
       "      <th>Ticket</th>\n",
       "      <th>Fare</th>\n",
       "      <th>Cabin</th>\n",
       "      <th>Embarked</th>\n",
       "    </tr>\n",
       "    <tr>\n",
       "      <th>PassengerId</th>\n",
       "      <th></th>\n",
       "      <th></th>\n",
       "      <th></th>\n",
       "      <th></th>\n",
       "      <th></th>\n",
       "      <th></th>\n",
       "      <th></th>\n",
       "      <th></th>\n",
       "      <th></th>\n",
       "      <th></th>\n",
       "      <th></th>\n",
       "    </tr>\n",
       "  </thead>\n",
       "  <tbody>\n",
       "    <tr>\n",
       "      <th>774</th>\n",
       "      <td>0</td>\n",
       "      <td>3</td>\n",
       "      <td>Elias, Mr. Dibo</td>\n",
       "      <td>male</td>\n",
       "      <td>NaN</td>\n",
       "      <td>0</td>\n",
       "      <td>0</td>\n",
       "      <td>2674</td>\n",
       "      <td>7.2250</td>\n",
       "      <td>NaN</td>\n",
       "      <td>C</td>\n",
       "    </tr>\n",
       "    <tr>\n",
       "      <th>784</th>\n",
       "      <td>0</td>\n",
       "      <td>3</td>\n",
       "      <td>Johnston, Mr. Andrew G</td>\n",
       "      <td>male</td>\n",
       "      <td>NaN</td>\n",
       "      <td>1</td>\n",
       "      <td>2</td>\n",
       "      <td>W./C. 6607</td>\n",
       "      <td>23.4500</td>\n",
       "      <td>NaN</td>\n",
       "      <td>S</td>\n",
       "    </tr>\n",
       "    <tr>\n",
       "      <th>346</th>\n",
       "      <td>1</td>\n",
       "      <td>2</td>\n",
       "      <td>Brown, Miss. Amelia \"Mildred\"</td>\n",
       "      <td>female</td>\n",
       "      <td>24.0</td>\n",
       "      <td>0</td>\n",
       "      <td>0</td>\n",
       "      <td>248733</td>\n",
       "      <td>13.0000</td>\n",
       "      <td>F33</td>\n",
       "      <td>S</td>\n",
       "    </tr>\n",
       "    <tr>\n",
       "      <th>70</th>\n",
       "      <td>0</td>\n",
       "      <td>3</td>\n",
       "      <td>Kink, Mr. Vincenz</td>\n",
       "      <td>male</td>\n",
       "      <td>26.0</td>\n",
       "      <td>2</td>\n",
       "      <td>0</td>\n",
       "      <td>315151</td>\n",
       "      <td>8.6625</td>\n",
       "      <td>NaN</td>\n",
       "      <td>S</td>\n",
       "    </tr>\n",
       "    <tr>\n",
       "      <th>395</th>\n",
       "      <td>1</td>\n",
       "      <td>3</td>\n",
       "      <td>Sandstrom, Mrs. Hjalmar (Agnes Charlotta Bengt...</td>\n",
       "      <td>female</td>\n",
       "      <td>24.0</td>\n",
       "      <td>0</td>\n",
       "      <td>2</td>\n",
       "      <td>PP 9549</td>\n",
       "      <td>16.7000</td>\n",
       "      <td>G6</td>\n",
       "      <td>S</td>\n",
       "    </tr>\n",
       "    <tr>\n",
       "      <th>24</th>\n",
       "      <td>1</td>\n",
       "      <td>1</td>\n",
       "      <td>Sloper, Mr. William Thompson</td>\n",
       "      <td>male</td>\n",
       "      <td>28.0</td>\n",
       "      <td>0</td>\n",
       "      <td>0</td>\n",
       "      <td>113788</td>\n",
       "      <td>35.5000</td>\n",
       "      <td>A6</td>\n",
       "      <td>S</td>\n",
       "    </tr>\n",
       "    <tr>\n",
       "      <th>586</th>\n",
       "      <td>1</td>\n",
       "      <td>1</td>\n",
       "      <td>Taussig, Miss. Ruth</td>\n",
       "      <td>female</td>\n",
       "      <td>18.0</td>\n",
       "      <td>0</td>\n",
       "      <td>2</td>\n",
       "      <td>110413</td>\n",
       "      <td>79.6500</td>\n",
       "      <td>E68</td>\n",
       "      <td>S</td>\n",
       "    </tr>\n",
       "    <tr>\n",
       "      <th>818</th>\n",
       "      <td>0</td>\n",
       "      <td>2</td>\n",
       "      <td>Mallet, Mr. Albert</td>\n",
       "      <td>male</td>\n",
       "      <td>31.0</td>\n",
       "      <td>1</td>\n",
       "      <td>1</td>\n",
       "      <td>S.C./PARIS 2079</td>\n",
       "      <td>37.0042</td>\n",
       "      <td>NaN</td>\n",
       "      <td>C</td>\n",
       "    </tr>\n",
       "  </tbody>\n",
       "</table>\n",
       "</div>"
      ],
      "text/plain": [
       "             Survived  Pclass  \\\n",
       "PassengerId                     \n",
       "774                 0       3   \n",
       "784                 0       3   \n",
       "346                 1       2   \n",
       "70                  0       3   \n",
       "395                 1       3   \n",
       "24                  1       1   \n",
       "586                 1       1   \n",
       "818                 0       2   \n",
       "\n",
       "                                                          Name     Sex   Age  \\\n",
       "PassengerId                                                                    \n",
       "774                                            Elias, Mr. Dibo    male   NaN   \n",
       "784                                     Johnston, Mr. Andrew G    male   NaN   \n",
       "346                              Brown, Miss. Amelia \"Mildred\"  female  24.0   \n",
       "70                                           Kink, Mr. Vincenz    male  26.0   \n",
       "395          Sandstrom, Mrs. Hjalmar (Agnes Charlotta Bengt...  female  24.0   \n",
       "24                                Sloper, Mr. William Thompson    male  28.0   \n",
       "586                                        Taussig, Miss. Ruth  female  18.0   \n",
       "818                                         Mallet, Mr. Albert    male  31.0   \n",
       "\n",
       "             SibSp  Parch           Ticket     Fare Cabin Embarked  \n",
       "PassengerId                                                         \n",
       "774              0      0             2674   7.2250   NaN        C  \n",
       "784              1      2       W./C. 6607  23.4500   NaN        S  \n",
       "346              0      0           248733  13.0000   F33        S  \n",
       "70               2      0           315151   8.6625   NaN        S  \n",
       "395              0      2          PP 9549  16.7000    G6        S  \n",
       "24               0      0           113788  35.5000    A6        S  \n",
       "586              0      2           110413  79.6500   E68        S  \n",
       "818              1      1  S.C./PARIS 2079  37.0042   NaN        C  "
      ]
     },
     "execution_count": 26,
     "metadata": {},
     "output_type": "execute_result"
    }
   ],
   "source": [
    "titanic.sample(8)"
   ]
  },
  {
   "cell_type": "code",
   "execution_count": 27,
   "id": "50ccb74b",
   "metadata": {},
   "outputs": [
    {
     "data": {
      "text/plain": [
       "array(['S', 'C', 'Q', nan], dtype=object)"
      ]
     },
     "execution_count": 27,
     "metadata": {},
     "output_type": "execute_result"
    }
   ],
   "source": [
    "titanic.Embarked.unique()"
   ]
  },
  {
   "cell_type": "code",
   "execution_count": 38,
   "id": "5d8f1fce",
   "metadata": {},
   "outputs": [
    {
     "data": {
      "text/plain": [
       "Survived    891\n",
       "Pclass      891\n",
       "Name        891\n",
       "Sex         891\n",
       "Age         714\n",
       "SibSp       891\n",
       "Parch       891\n",
       "Ticket      891\n",
       "Fare        891\n",
       "Cabin       204\n",
       "Embarked    889\n",
       "dtype: int64"
      ]
     },
     "execution_count": 38,
     "metadata": {},
     "output_type": "execute_result"
    }
   ],
   "source": [
    "titanic.count()"
   ]
  },
  {
   "cell_type": "markdown",
   "id": "7615d2b7",
   "metadata": {},
   "source": [
    "### fractional weightage of each port of embarkment:"
   ]
  },
  {
   "cell_type": "code",
   "execution_count": 43,
   "id": "b27ef596",
   "metadata": {},
   "outputs": [
    {
     "data": {
      "text/plain": [
       "889"
      ]
     },
     "execution_count": 43,
     "metadata": {},
     "output_type": "execute_result"
    }
   ],
   "source": [
    "titanic['Embarked'].notnull().sum()"
   ]
  },
  {
   "cell_type": "code",
   "execution_count": 40,
   "id": "e2734ed5",
   "metadata": {},
   "outputs": [
    {
     "data": {
      "text/plain": [
       "644"
      ]
     },
     "execution_count": 40,
     "metadata": {},
     "output_type": "execute_result"
    }
   ],
   "source": [
    "len(titanic[titanic['Embarked'] == 'S'])"
   ]
  },
  {
   "cell_type": "code",
   "execution_count": 41,
   "id": "0df56338",
   "metadata": {},
   "outputs": [
    {
     "data": {
      "text/plain": [
       "168"
      ]
     },
     "execution_count": 41,
     "metadata": {},
     "output_type": "execute_result"
    }
   ],
   "source": [
    "len(titanic[titanic['Embarked'] == 'C'])"
   ]
  },
  {
   "cell_type": "code",
   "execution_count": 42,
   "id": "56cdabef",
   "metadata": {},
   "outputs": [
    {
     "data": {
      "text/plain": [
       "77"
      ]
     },
     "execution_count": 42,
     "metadata": {},
     "output_type": "execute_result"
    }
   ],
   "source": [
    "len(titanic[titanic['Embarked'] == 'Q'])"
   ]
  },
  {
   "cell_type": "code",
   "execution_count": 44,
   "id": "3c69ae03",
   "metadata": {},
   "outputs": [
    {
     "data": {
      "text/plain": [
       "0.08661417322834646"
      ]
     },
     "execution_count": 44,
     "metadata": {},
     "output_type": "execute_result"
    }
   ],
   "source": [
    "len(titanic[titanic['Embarked'] == 'Q'])/titanic['Embarked'].notnull().sum()"
   ]
  },
  {
   "cell_type": "code",
   "execution_count": 45,
   "id": "f522cce0",
   "metadata": {},
   "outputs": [
    {
     "data": {
      "text/plain": [
       "0.1889763779527559"
      ]
     },
     "execution_count": 45,
     "metadata": {},
     "output_type": "execute_result"
    }
   ],
   "source": [
    "len(titanic[titanic['Embarked'] == 'C'])/titanic['Embarked'].notnull().sum()"
   ]
  },
  {
   "cell_type": "code",
   "execution_count": 46,
   "id": "01dfa933",
   "metadata": {},
   "outputs": [
    {
     "data": {
      "text/plain": [
       "0.7244094488188977"
      ]
     },
     "execution_count": 46,
     "metadata": {},
     "output_type": "execute_result"
    }
   ],
   "source": [
    "len(titanic[titanic['Embarked'] == 'S'])/titanic['Embarked'].notnull().sum()"
   ]
  },
  {
   "cell_type": "markdown",
   "id": "256533fe",
   "metadata": {},
   "source": [
    "### fractional weightage of each Pclass:"
   ]
  },
  {
   "cell_type": "code",
   "execution_count": 47,
   "id": "2a2b840d",
   "metadata": {},
   "outputs": [
    {
     "name": "stdout",
     "output_type": "stream",
     "text": [
      "216\n",
      "0.24242424242424243\n"
     ]
    }
   ],
   "source": [
    "print(len(titanic[titanic['Pclass'] == 1]))\n",
    "print(len(titanic[titanic['Pclass'] == 1])/len(titanic))"
   ]
  },
  {
   "cell_type": "code",
   "execution_count": 48,
   "id": "8ee18533",
   "metadata": {},
   "outputs": [
    {
     "name": "stdout",
     "output_type": "stream",
     "text": [
      "184\n",
      "0.20650953984287318\n"
     ]
    }
   ],
   "source": [
    "print(len(titanic[titanic['Pclass'] == 2]))\n",
    "print(len(titanic[titanic['Pclass'] == 2])/len(titanic))"
   ]
  },
  {
   "cell_type": "code",
   "execution_count": 49,
   "id": "3c96445c",
   "metadata": {},
   "outputs": [
    {
     "name": "stdout",
     "output_type": "stream",
     "text": [
      "491\n",
      "0.5510662177328844\n"
     ]
    }
   ],
   "source": [
    "print(len(titanic[titanic['Pclass'] == 3]))\n",
    "print(len(titanic[titanic['Pclass'] == 3])/len(titanic))"
   ]
  },
  {
   "cell_type": "markdown",
   "id": "53384054",
   "metadata": {},
   "source": [
    "## ALL OF THESE DONE ABOVE ARE UNIVARIATE ANALYSIS BECAUSE WE ARE ONLY ANALYSING A SINGLE VARIABLE AT A TIME."
   ]
  },
  {
   "cell_type": "markdown",
   "id": "07a5553e",
   "metadata": {},
   "source": [
    "## MOVING ONTO BIVARIATE ANALYSIS:"
   ]
  },
  {
   "cell_type": "code",
   "execution_count": 52,
   "id": "8c0bcfee",
   "metadata": {},
   "outputs": [
    {
     "data": {
      "text/plain": [
       "217"
      ]
     },
     "execution_count": 52,
     "metadata": {},
     "output_type": "execute_result"
    }
   ],
   "source": [
    "#FINDING OUT HOW MANY PEOPLE SURVIVED WHO EMBARKED FROM SOUTHAMPTON\n",
    "len(titanic[(titanic['Embarked'] == 'S') & (titanic['Survived'] == 1)])"
   ]
  },
  {
   "cell_type": "code",
   "execution_count": 53,
   "id": "56c0aefa",
   "metadata": {},
   "outputs": [
    {
     "data": {
      "text/plain": [
       "0.33695652173913043"
      ]
     },
     "execution_count": 53,
     "metadata": {},
     "output_type": "execute_result"
    }
   ],
   "source": [
    "#fractional weightage of people who survived who boarded from Southampton\n",
    "#COMPARED TO TOTAL PASSENGERS WHO BOARDED FROM S\n",
    "len(titanic[(titanic['Embarked'] == 'S') & (titanic['Survived'] == 1)])/len(titanic[titanic.Embarked == 'S'])"
   ]
  },
  {
   "cell_type": "code",
   "execution_count": 54,
   "id": "cd67add3",
   "metadata": {},
   "outputs": [
    {
     "data": {
      "text/plain": [
       "0.2440944881889764"
      ]
     },
     "execution_count": 54,
     "metadata": {},
     "output_type": "execute_result"
    }
   ],
   "source": [
    "#fractional weightage of people who survived who boarded from Southampton\n",
    "#COMPARED TO TOTAL PASSENGERS.\n",
    "len(titanic[(titanic['Embarked'] == 'S') & (titanic['Survived'] == 1)])/titanic['Embarked'].notnull().sum()"
   ]
  },
  {
   "cell_type": "code",
   "execution_count": 55,
   "id": "d1235efc",
   "metadata": {},
   "outputs": [
    {
     "data": {
      "text/plain": [
       "93"
      ]
     },
     "execution_count": 55,
     "metadata": {},
     "output_type": "execute_result"
    }
   ],
   "source": [
    "#FINDING OUT HOW MANY PEOPLE SURVIVED WHO EMBARKED FROM CHERBOURG\n",
    "len(titanic[(titanic['Embarked'] == 'C') & (titanic['Survived'] == 1)])"
   ]
  },
  {
   "cell_type": "code",
   "execution_count": 56,
   "id": "4d506ee5",
   "metadata": {},
   "outputs": [
    {
     "data": {
      "text/plain": [
       "0.5535714285714286"
      ]
     },
     "execution_count": 56,
     "metadata": {},
     "output_type": "execute_result"
    }
   ],
   "source": [
    "#fractional weightage of people who survived who boarded from Cherbourg\n",
    "#COMPARED TO TOTAL PASSENGERS WHO BOARDED FROM C\n",
    "len(titanic[(titanic['Embarked'] == 'C') & (titanic['Survived'] == 1)])/len(titanic[titanic.Embarked == 'C'])"
   ]
  },
  {
   "cell_type": "code",
   "execution_count": 57,
   "id": "245ccf8c",
   "metadata": {},
   "outputs": [
    {
     "data": {
      "text/plain": [
       "0.1046119235095613"
      ]
     },
     "execution_count": 57,
     "metadata": {},
     "output_type": "execute_result"
    }
   ],
   "source": [
    "#fractional weightage of people who survived who boarded from Cherbourg\n",
    "#COMPARED TO TOTAL PASSENGERS.\n",
    "len(titanic[(titanic['Embarked'] == 'C') & (titanic['Survived'] == 1)])/titanic['Embarked'].notnull().sum()"
   ]
  },
  {
   "cell_type": "code",
   "execution_count": 58,
   "id": "b0cd72d6",
   "metadata": {},
   "outputs": [
    {
     "data": {
      "text/plain": [
       "30"
      ]
     },
     "execution_count": 58,
     "metadata": {},
     "output_type": "execute_result"
    }
   ],
   "source": [
    "#FINDING OUT HOW MANY PEOPLE SURVIVED WHO EMBARKED FROM QUEENSTOWN\n",
    "len(titanic[(titanic['Embarked'] == 'Q') & (titanic['Survived'] == 1)])"
   ]
  },
  {
   "cell_type": "code",
   "execution_count": 59,
   "id": "6bc15076",
   "metadata": {},
   "outputs": [
    {
     "data": {
      "text/plain": [
       "0.38961038961038963"
      ]
     },
     "execution_count": 59,
     "metadata": {},
     "output_type": "execute_result"
    }
   ],
   "source": [
    "#fractional weightage of people who survived who boarded from Queenstown\n",
    "#COMPARED TO TOTAL PASSENGERS WHO BOARDED FROM Q\n",
    "len(titanic[(titanic['Embarked'] == 'Q') & (titanic['Survived'] == 1)])/len(titanic[titanic.Embarked == 'Q'])"
   ]
  },
  {
   "cell_type": "code",
   "execution_count": 60,
   "id": "464860d3",
   "metadata": {},
   "outputs": [
    {
     "data": {
      "text/plain": [
       "0.03374578177727784"
      ]
     },
     "execution_count": 60,
     "metadata": {},
     "output_type": "execute_result"
    }
   ],
   "source": [
    "#fractional weightage of people who survived who boarded from Queenstown\n",
    "#COMPARED TO TOTAL PASSENGERS.\n",
    "len(titanic[(titanic['Embarked'] == 'Q') & (titanic['Survived'] == 1)])/titanic['Embarked'].notnull().sum()"
   ]
  },
  {
   "cell_type": "markdown",
   "id": "8549dc0a",
   "metadata": {},
   "source": [
    "## MULTIVARIATE ANALYSIS"
   ]
  },
  {
   "cell_type": "markdown",
   "id": "62b649ad",
   "metadata": {},
   "source": [
    "### 3 variable analysis:\n",
    "- Embarked, Sex, Survived"
   ]
  },
  {
   "cell_type": "code",
   "execution_count": 67,
   "id": "b798965d",
   "metadata": {},
   "outputs": [
    {
     "name": "stdout",
     "output_type": "stream",
     "text": [
      "203\n",
      "140\n"
     ]
    }
   ],
   "source": [
    "#FINDING OUT HOW MANY 'FEMALES' 'SURVIVED' WHO EMBARKED FROM 'SOUTHAMPTON'\n",
    "print(len(titanic[(titanic['Embarked'] == 'S') &(titanic['Sex'] == 'female')]))\n",
    "print(len(titanic[(titanic['Embarked'] == 'S') & (titanic['Survived'] == 1) & (titanic['Sex'] == 'female')]))"
   ]
  },
  {
   "cell_type": "code",
   "execution_count": 68,
   "id": "58864cc1",
   "metadata": {},
   "outputs": [
    {
     "name": "stdout",
     "output_type": "stream",
     "text": [
      "441\n",
      "77\n"
     ]
    }
   ],
   "source": [
    "#FINDING OUT HOW MANY 'MALES' 'SURVIVED' WHO EMBARKED FROM 'SOUTHAMPTON'\n",
    "print(len(titanic[(titanic['Embarked'] == 'S') &(titanic['Sex'] == 'male')]))\n",
    "print(len(titanic[(titanic['Embarked'] == 'S') & (titanic['Survived'] == 1) & (titanic['Sex'] == 'male')]))"
   ]
  },
  {
   "cell_type": "code",
   "execution_count": 70,
   "id": "16e25599",
   "metadata": {},
   "outputs": [
    {
     "name": "stdout",
     "output_type": "stream",
     "text": [
      "73\n",
      "64\n"
     ]
    }
   ],
   "source": [
    "#FINDING OUT HOW MANY 'FEMALES' 'SURVIVED' WHO EMBARKED FROM 'CHERBOURG'\n",
    "print(len(titanic[(titanic['Embarked'] == 'C') &(titanic['Sex'] == 'female')]))\n",
    "print(len(titanic[(titanic['Embarked'] == 'C') & (titanic['Survived'] == 1) & (titanic['Sex'] == 'female')]))"
   ]
  },
  {
   "cell_type": "code",
   "execution_count": 71,
   "id": "f8bddc57",
   "metadata": {},
   "outputs": [
    {
     "name": "stdout",
     "output_type": "stream",
     "text": [
      "95\n",
      "29\n"
     ]
    }
   ],
   "source": [
    "#FINDING OUT HOW MANY 'MALES' 'SURVIVED' WHO EMBARKED FROM 'CHERBOURG'\n",
    "print(len(titanic[(titanic['Embarked'] == 'C') &(titanic['Sex'] == 'male')]))\n",
    "print(len(titanic[(titanic['Embarked'] == 'C') & (titanic['Survived'] == 1) & (titanic['Sex'] == 'male')]))"
   ]
  },
  {
   "cell_type": "code",
   "execution_count": 72,
   "id": "f2c790c1",
   "metadata": {},
   "outputs": [
    {
     "name": "stdout",
     "output_type": "stream",
     "text": [
      "36\n",
      "27\n"
     ]
    }
   ],
   "source": [
    "#FINDING OUT HOW MANY 'FEMALES' 'SURVIVED' WHO EMBARKED FROM 'QUEENSTOWN'\n",
    "print(len(titanic[(titanic['Embarked'] == 'Q') &(titanic['Sex'] == 'female')]))\n",
    "print(len(titanic[(titanic['Embarked'] == 'Q') & (titanic['Survived'] == 1) & (titanic['Sex'] == 'female')]))"
   ]
  },
  {
   "cell_type": "code",
   "execution_count": 73,
   "id": "c1acf3f9",
   "metadata": {},
   "outputs": [
    {
     "name": "stdout",
     "output_type": "stream",
     "text": [
      "41\n",
      "3\n"
     ]
    }
   ],
   "source": [
    "#FINDING OUT HOW MANY 'MALES' 'SURVIVED' WHO EMBARKED FROM 'CHERBOURG'\n",
    "print(len(titanic[(titanic['Embarked'] == 'Q') &(titanic['Sex'] == 'male')]))\n",
    "print(len(titanic[(titanic['Embarked'] == 'Q') & (titanic['Survived'] == 1) & (titanic['Sex'] == 'male')]))"
   ]
  },
  {
   "cell_type": "markdown",
   "id": "75136d6f",
   "metadata": {},
   "source": [
    "### 4 variable analysis:\n",
    "- Embarked, Survived, Sex, Pclass"
   ]
  },
  {
   "cell_type": "code",
   "execution_count": 81,
   "id": "cf90d491",
   "metadata": {},
   "outputs": [
    {
     "name": "stdout",
     "output_type": "stream",
     "text": [
      "48\n",
      "46\n"
     ]
    }
   ],
   "source": [
    "#TOTAL NO. OF FEMALES WHO EMBARKED FROM SOUTHAMPTON WITH 1ST PCLASS TICKETS AND NO. OF THEM WHO SURVIVED\n",
    "print(len(titanic[(titanic['Embarked'] == 'S') & (titanic['Sex'] == 'female') & (titanic['Pclass'] == 1)]))\n",
    "print(len(titanic[(titanic['Embarked'] == 'S') & (titanic['Survived'] == 1) & (titanic['Sex'] == 'female') & (titanic['Pclass'] == 1)]))"
   ]
  },
  {
   "cell_type": "code",
   "execution_count": 83,
   "id": "b821892a",
   "metadata": {},
   "outputs": [
    {
     "name": "stdout",
     "output_type": "stream",
     "text": [
      "67\n",
      "61\n"
     ]
    }
   ],
   "source": [
    "#TOTAL NO. OF FEMALES WHO EMBARKED FROM SOUTHAMPTON WITH 2ND PCLASS TICKETS AND NO. OF THEM WHO SURVIVED\n",
    "print(len(titanic[(titanic['Embarked'] == 'S') & (titanic['Sex'] == 'female') & (titanic['Pclass'] == 2)]))\n",
    "print(len(titanic[(titanic['Embarked'] == 'S') & (titanic['Survived'] == 1) & (titanic['Sex'] == 'female') & (titanic['Pclass'] == 2)]))"
   ]
  },
  {
   "cell_type": "code",
   "execution_count": 82,
   "id": "35fe1e67",
   "metadata": {},
   "outputs": [
    {
     "name": "stdout",
     "output_type": "stream",
     "text": [
      "88\n",
      "33\n"
     ]
    }
   ],
   "source": [
    "#TOTAL NO. OF FEMALES WHO EMBARKED FROM SOUTHAMPTON WITH 3RD PCLASS TICKETS AND NO. OF THEM WHO SURVIVED\n",
    "print(len(titanic[(titanic['Embarked'] == 'S') & (titanic['Sex'] == 'female') & (titanic['Pclass'] == 3)]))\n",
    "print(len(titanic[(titanic['Embarked'] == 'S') & (titanic['Survived'] == 1) & (titanic['Sex'] == 'female') & (titanic['Pclass'] == 3)]))"
   ]
  },
  {
   "cell_type": "code",
   "execution_count": 84,
   "id": "2f1ad837",
   "metadata": {},
   "outputs": [
    {
     "name": "stdout",
     "output_type": "stream",
     "text": [
      "79\n",
      "28\n"
     ]
    }
   ],
   "source": [
    "#TOTAL NO. OF MALES WHO EMBARKED FROM SOUTHAMPTON WITH 1ST PCLASS TICKETS AND NO. OF THEM WHO SURVIVED\n",
    "print(len(titanic[(titanic['Embarked'] == 'S') & (titanic['Sex'] == 'male') & (titanic['Pclass'] == 1)]))\n",
    "print(len(titanic[(titanic['Embarked'] == 'S') & (titanic['Survived'] == 1) & (titanic['Sex'] == 'male') & (titanic['Pclass'] == 1)]))"
   ]
  },
  {
   "cell_type": "code",
   "execution_count": 85,
   "id": "6588cf1d",
   "metadata": {},
   "outputs": [
    {
     "name": "stdout",
     "output_type": "stream",
     "text": [
      "97\n",
      "15\n"
     ]
    }
   ],
   "source": [
    "#TOTAL NO. OF MALES WHO EMBARKED FROM SOUTHAMPTON WITH 2ND PCLASS TICKETS AND NO. OF THEM WHO SURVIVED\n",
    "print(len(titanic[(titanic['Embarked'] == 'S') & (titanic['Sex'] == 'male') & (titanic['Pclass'] == 2)]))\n",
    "print(len(titanic[(titanic['Embarked'] == 'S') & (titanic['Survived'] == 1) & (titanic['Sex'] == 'male') & (titanic['Pclass'] == 2)]))"
   ]
  },
  {
   "cell_type": "code",
   "execution_count": 86,
   "id": "a6003f0c",
   "metadata": {},
   "outputs": [
    {
     "name": "stdout",
     "output_type": "stream",
     "text": [
      "265\n",
      "34\n"
     ]
    }
   ],
   "source": [
    "#TOTAL NO. OF MALES WHO EMBARKED FROM SOUTHAMPTON WITH 3RD PCLASS TICKETS AND NO. OF THEM WHO SURVIVED\n",
    "print(len(titanic[(titanic['Embarked'] == 'S') & (titanic['Sex'] == 'male') & (titanic['Pclass'] == 3)]))\n",
    "print(len(titanic[(titanic['Embarked'] == 'S') & (titanic['Survived'] == 1) & (titanic['Sex'] == 'male') & (titanic['Pclass'] == 3)]))"
   ]
  },
  {
   "cell_type": "markdown",
   "id": "0e92bee3",
   "metadata": {},
   "source": [
    "**similarly you can do this for cherbourg and queenstown**"
   ]
  },
  {
   "cell_type": "code",
   "execution_count": 91,
   "id": "ce69a9d7",
   "metadata": {},
   "outputs": [
    {
     "data": {
      "text/plain": [
       "14.4542"
      ]
     },
     "execution_count": 91,
     "metadata": {},
     "output_type": "execute_result"
    }
   ],
   "source": [
    "titanic.Fare.median()"
   ]
  },
  {
   "cell_type": "code",
   "execution_count": 92,
   "id": "c317c504",
   "metadata": {},
   "outputs": [
    {
     "data": {
      "text/plain": [
       "32.204207968574636"
      ]
     },
     "execution_count": 92,
     "metadata": {},
     "output_type": "execute_result"
    }
   ],
   "source": [
    "titanic.Fare.mean()\n",
    "# the difference b/w mean and median is significant. Why?\n",
    "# because there is a huge diff b/w amount paid by upper and middle &lower \n",
    "#class people."
   ]
  },
  {
   "cell_type": "markdown",
   "id": "21ca9a11",
   "metadata": {},
   "source": [
    "Steps:\n",
    "- Univariate analysis of all columns\n",
    "- Handling missing data \n",
    " \n",
    "      --> drop unnecessary data\n",
    "      --> bivariate analysis to impute relevant data wherever missing\n",
    "- Multivariate analysis: followed by Data Visualization in detail."
   ]
  }
 ],
 "metadata": {
  "kernelspec": {
   "display_name": "Python 3 (ipykernel)",
   "language": "python",
   "name": "python3"
  },
  "language_info": {
   "codemirror_mode": {
    "name": "ipython",
    "version": 3
   },
   "file_extension": ".py",
   "mimetype": "text/x-python",
   "name": "python",
   "nbconvert_exporter": "python",
   "pygments_lexer": "ipython3",
   "version": "3.11.5"
  }
 },
 "nbformat": 4,
 "nbformat_minor": 5
}
